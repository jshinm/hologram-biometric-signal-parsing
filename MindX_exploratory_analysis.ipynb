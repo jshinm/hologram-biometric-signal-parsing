{
  "cells": [
    {
      "cell_type": "markdown",
      "metadata": {
        "colab_type": "text",
        "id": "view-in-github"
      },
      "source": [
        "<a href=\"https://colab.research.google.com/github/jshin13/MindX_time-series_analysis/blob/temp/MindX_dataloader.ipynb\" target=\"_parent\"><img src=\"https://colab.research.google.com/assets/colab-badge.svg\" alt=\"Open In Colab\"/></a>"
      ]
    },
    {
      "cell_type": "code",
      "execution_count": 1,
      "metadata": {
        "colab": {
          "base_uri": "https://localhost:8080/"
        },
        "id": "8Ref7nVNaYu_",
        "outputId": "6e917424-308d-4cdd-8745-19520953ea09"
      },
      "outputs": [
        {
          "name": "stdout",
          "output_type": "stream",
          "text": [
            "Drive already mounted at /content/drive; to attempt to forcibly remount, call drive.mount(\"/content/drive\", force_remount=True).\n"
          ]
        }
      ],
      "source": [
        "import os\n",
        "import shutil\n",
        "import zipfile\n",
        "import urllib.request\n",
        "from google.colab import drive\n",
        "from google.colab import files\n",
        "\n",
        "drive.mount('/content/drive')"
      ]
    },
    {
      "cell_type": "code",
      "execution_count": 2,
      "metadata": {
        "id": "N-XhcQWmcDDN"
      },
      "outputs": [],
      "source": [
        "dirpath = '/content/drive/MyDrive/MindX_Data/Optical Imaging System Data Sets/'\n",
        "dirpath2 = '/content/drive/MyDrive/MindX_Data/dat/'\n",
        "dirpathimg = '/content/drive/MyDrive/MindX_Data/img/'\n",
        "dataset = 1\n",
        "# [S1, S1, S3, S2, S2]\n",
        "fpath = ['offaxis_10_27_2020/tf', 'offaxis_s1_11_30_2020/tf', \n",
        "         'offaxis_s3_11_30_2020/tf', 'offaxis_11_12_2020/tf',\n",
        "         'onaxis_11_18_2020/tf'][dataset]\n",
        "\n",
        "##### GLOBAL #####\n",
        "trim = 1500\n",
        "BIN_NUM = 10"
      ]
    },
    {
      "cell_type": "code",
      "execution_count": 3,
      "metadata": {
        "colab": {
          "base_uri": "https://localhost:8080/"
        },
        "id": "tclH4bsD6l1C",
        "outputId": "cff2afc3-ecfa-4e53-a0c6-7e078c71d09c"
      },
      "outputs": [
        {
          "data": {
            "text/plain": [
              "<ParallelInterleaveDataset shapes: {data: (None, None), time: (), stimulus: (), ekg: (), ppg: (), dataset: ()}, types: {data: tf.float32, time: tf.float64, stimulus: tf.bool, ekg: tf.float32, ppg: tf.float32, dataset: tf.string}>"
            ]
          },
          "execution_count": 3,
          "metadata": {
            "tags": []
          },
          "output_type": "execute_result"
        }
      ],
      "source": [
        "import tensorflow as tf\n",
        "from pathlib import Path\n",
        "\n",
        "def load_dataset(path):\n",
        "    return (tf.data.Dataset.list_files(str(Path(path) / '*'), shuffle=False)\n",
        "        # Note: cycle_length=1 ensures that sessions are loaded sequentially.\n",
        "        # If sessions can be intermingled, then cycle_length can be increased for better performance.\n",
        "        .interleave(_load_session, cycle_length=1, num_parallel_calls=tf.data.AUTOTUNE)\n",
        "    )\n",
        "\n",
        "@tf.function\n",
        "def _load_session(path):\n",
        "    name = tf.strings.split(tf.strings.split(path, '/')[-1], '\\\\')[-1]\n",
        "\n",
        "    @tf.function\n",
        "    def _label(data):\n",
        "        out = dict(data)\n",
        "        out['dataset'] = name\n",
        "        return out\n",
        "\n",
        "    ds = tf.data.experimental.load(\n",
        "        path,\n",
        "        dict(\n",
        "            data=tf.TensorSpec((None, None), dtype=tf.float32),\n",
        "            time=tf.TensorSpec((), dtype=tf.float64),\n",
        "            stimulus=tf.TensorSpec((), dtype=tf.bool),\n",
        "            ekg=tf.TensorSpec((), dtype=tf.float32),\n",
        "            ppg=tf.TensorSpec((), dtype=tf.float32),\n",
        "        ),\n",
        "    )\n",
        "    return ds.map(_label, num_parallel_calls=tf.data.AUTOTUNE)\n",
        "\n",
        "ds = load_dataset(dirpath + fpath)\n",
        "ds"
      ]
    },
    {
      "cell_type": "code",
      "execution_count": 4,
      "metadata": {
        "id": "22Ba1YueF3MT"
      },
      "outputs": [],
      "source": [
        "import matplotlib.pyplot as plt\n",
        "import matplotlib\n",
        "# matplotlib.use('Agg')\n",
        "from tqdm.notebook import tqdm\n",
        "import numpy as np\n",
        "import pandas as pd\n",
        "from scipy import signal\n",
        "# from IPython.display import clear_output\n",
        "import pickle\n",
        "import gc\n",
        "import seaborn as sns"
      ]
    },
    {
      "cell_type": "code",
      "execution_count": 5,
      "metadata": {
        "colab": {
          "base_uri": "https://localhost:8080/"
        },
        "id": "QWV00Xchwcz0",
        "outputId": "610f3b82-5e56-48a9-9da4-f07c7d7870e9"
      },
      "outputs": [
        {
          "name": "stdout",
          "output_type": "stream",
          "text": [
            "HYPPO ALREADY INSTALLED\n"
          ]
        }
      ],
      "source": [
        "from zipfile import ZipFile\n",
        "\n",
        "if os.path.exists('hyppo-master'):\n",
        "    print('HYPPO ALREADY INSTALLED')\n",
        "else:\n",
        "    try:\n",
        "        with ZipFile(dirpath2 + 'hyppo-master.zip', 'r') as zipObj:\n",
        "            # Extract all the contents of zip file in current directory\n",
        "            zipObj.extractall()\n",
        "\n",
        "        # % git clone https://github.com/neurodata/hyppo\n",
        "        %cd hyppo-master\n",
        "        %pip install .\n",
        "        %cd ..\n",
        "    except:\n",
        "        print('ZIP FILE DOES NOT EXIST')"
      ]
    },
    {
      "cell_type": "code",
      "execution_count": 6,
      "metadata": {
        "id": "iPDI59yed7wf"
      },
      "outputs": [],
      "source": [
        "# %pip install hyppo # does not have KMERF yet\n",
        "import hyppo"
      ]
    },
    {
      "cell_type": "code",
      "execution_count": 7,
      "metadata": {
        "id": "s_dYOVAwIURv"
      },
      "outputs": [],
      "source": [
        "def compute_ROI(ds1):\n",
        "\n",
        "    origin = [0.5, 0.5]\n",
        "    radius = 0.3\n",
        "    holograms = tf.convert_to_tensor(ds1, tf.float32)\n",
        "    shape = [64, 64]#tf.shape(holograms)[1:]\n",
        "\n",
        "    x, y = tf.meshgrid(\n",
        "        tf.linspace(0. - origin[0], 1. - origin[0], shape[0]),\n",
        "        tf.linspace(0. - origin[1], 1. - origin[1], shape[1]),\n",
        "    )\n",
        "    grid = tf.sqrt(x**2 + y**2)\n",
        "    mask = grid <= radius\n",
        "\n",
        "    region = tf.boolean_mask(holograms, mask, axis=0)\n",
        "    mean = tf.math.reduce_mean(region, axis=-1)\n",
        "\n",
        "    return mean, mask"
      ]
    },
    {
      "cell_type": "code",
      "execution_count": 8,
      "metadata": {
        "id": "_nRJ3O1acRnl"
      },
      "outputs": [],
      "source": [
        "filename = ['ds_1027_s1.pickle', 'ds_1130_s1.pickle', 'ds_1130_s3.pickle', 'ds_1112_s2.pickle', 'ds_1118_s2.pickle']\n",
        "filename = dirpath2 + filename[dataset]\n",
        "\n",
        "if os.path.exists(filename):\n",
        "    with open(filename, 'rb') as f:\n",
        "        ds1 = pickle.load(f, encoding='bytes')\n",
        "else:\n",
        "    ds1 = [[],[],[],[],[],[],[]]\n",
        "\n",
        "    for idx, data in enumerate(tqdm(ds)):\n",
        "        # if data['dataset'] == bytes(b'AQ'):\n",
        "        temp = data['data'].numpy()\n",
        "        # ds1[0].append(temp)\n",
        "        ds1[1].append(data['time'].numpy())\n",
        "        ds1[2].append(data['stimulus'].numpy())\n",
        "        ds1[3].append(data['dataset'].numpy())\n",
        "        ds1[4].append(data['ekg'].numpy())\n",
        "        ds1[5].append(data['ppg'].numpy())\n",
        "        roi, _ = compute_ROI(temp) # compute ROI for all range\n",
        "        ds1[6].append(roi.numpy())\n",
        "\n",
        "    with open(filename, 'wb') as f:\n",
        "        pickle.dump(ds1, f)"
      ]
    },
    {
      "cell_type": "markdown",
      "metadata": {
        "id": "UjboEDPIoK-_"
      },
      "source": [
        "data structure = [data, time, stimulus, dataset, ekg, ppg]"
      ]
    },
    {
      "cell_type": "code",
      "execution_count": 10,
      "metadata": {
        "id": "-Mi8s7GqOuBh"
      },
      "outputs": [],
      "source": [
        "for data in ds:\n",
        "    mean, mask = compute_ROI(data['data'].numpy())\n",
        "    sample_data = data['data'].numpy()\n",
        "    break"
      ]
    },
    {
      "cell_type": "code",
      "execution_count": 11,
      "metadata": {
        "colab": {
          "base_uri": "https://localhost:8080/",
          "height": 319
        },
        "id": "Z-DDbOgXLBuj",
        "outputId": "013686a2-1f09-4801-9eeb-fde2cdd017c8"
      },
      "outputs": [
        {
          "data": {
            "image/png": "[encoded data removed]",
            "text/plain": [
              "<Figure size 1080x360 with 3 Axes>"
            ]
          },
          "metadata": {
            "needs_background": "light",
            "tags": []
          },
          "output_type": "display_data"
        }
      ],
      "source": [
        "fig, (ax1,ax2,ax3) = plt.subplots(1,3, figsize=(15,5))\n",
        "\n",
        "ax1.imshow(sample_data)\n",
        "ax2.imshow(mask)\n",
        "\n",
        "ax3.imshow(sample_data)\n",
        "ax3.imshow(mask, alpha=0.5)\n",
        "\n",
        "labels = ['Hologram', 'Mask', 'Overlap']\n",
        "\n",
        "for i, lab in enumerate((ax1,ax2,ax3)):\n",
        "    lab.set_title(labels[i], fontsize=25)\n",
        "\n",
        "fig.savefig(dirpathimg + 'hologram_mask.png', bbox_inches='tight')"
      ]
    },
    {
      "cell_type": "code",
      "execution_count": 12,
      "metadata": {
        "colab": {
          "base_uri": "https://localhost:8080/"
        },
        "id": "Qw3inGuVsQW6",
        "outputId": "12adc02d-4aba-40c7-84f2-b29899213a53"
      },
      "outputs": [
        {
          "name": "stderr",
          "output_type": "stream",
          "text": [
            "/usr/local/lib/python3.6/dist-packages/ipykernel_launcher.py:1: VisibleDeprecationWarning: Creating an ndarray from ragged nested sequences (which is a list-or-tuple of lists-or-tuples-or ndarrays with different lengths or shapes) is deprecated. If you meant to do this, you must specify 'dtype=object' when creating the ndarray\n",
            "  \"\"\"Entry point for launching an IPython kernel.\n"
          ]
        }
      ],
      "source": [
        "ds1 = np.array(ds1)"
      ]
    },
    {
      "cell_type": "code",
      "execution_count": 13,
      "metadata": {
        "colab": {
          "base_uri": "https://localhost:8080/"
        },
        "id": "LFFW_fTdHXVv",
        "outputId": "39ec92d5-e0bc-473f-b39c-6726fe277138"
      },
      "outputs": [
        {
          "name": "stdout",
          "output_type": "stream",
          "text": [
            "[]\n",
            "0.00022700001770600137\n",
            "False\n",
            "b'AC'\n",
            "0.41137695\n",
            "2.2644043\n",
            "18.902588\n"
          ]
        }
      ],
      "source": [
        "# list of exported data\n",
        "for i in ds1:\n",
        "    try: print(i[0])\n",
        "    except: print([])"
      ]
    },
    {
      "cell_type": "markdown",
      "metadata": {
        "id": "QtEyplK-O-eM"
      },
      "source": [
        "List validation\n",
        "\n",
        "[ 0.411  0.152  0.623  1.4    2.814  0.042  0.088  0.167  1.333  0.095]\n",
        "\n",
        "[b'AC' b'AC' b'AD' b'AE' b'AE' b'AF' b'AG' b'AH' b'AH' b'AI']"
      ]
    },
    {
      "cell_type": "code",
      "execution_count": 14,
      "metadata": {
        "colab": {
          "base_uri": "https://localhost:8080/"
        },
        "id": "7l5jwKWIN21y",
        "outputId": "74cfa852-2d86-43ae-fa2c-a5ffd97b5b3c"
      },
      "outputs": [
        {
          "name": "stdout",
          "output_type": "stream",
          "text": [
            "[     0  50000 100000 150000 200000 250000 300000 350000 400000 450000]\n",
            "[0.411 0.152 0.623 1.4   2.814 0.042 0.088 0.167 1.333 0.095]\n",
            "[b'AC' b'AC' b'AD' b'AE' b'AE' b'AF' b'AG' b'AH' b'AH' b'AI']\n"
          ]
        }
      ],
      "source": [
        "#validate to make sure the list is static\n",
        "print(f'{np.arange(0,500000,50000)}\\n{np.array(ds1[4])[[i for i in np.arange(0,500000,50000)]].round(3)}\\n{np.array(ds1[3])[[i for i in np.arange(0,500000,50000)]]}')"
      ]
    },
    {
      "cell_type": "code",
      "execution_count": 15,
      "metadata": {
        "colab": {
          "base_uri": "https://localhost:8080/"
        },
        "id": "O_KGdh-XlT65",
        "outputId": "52c61335-3093-4d21-c629-bdc41eb734ba"
      },
      "outputs": [
        {
          "data": {
            "text/plain": [
              "(array([b'AC', b'AD', b'AE', b'AF', b'AG', b'AH', b'AI', b'AJ', b'AK',\n",
              "        b'AL'], dtype='|S2'),\n",
              " {b'AC', b'AD', b'AE', b'AF', b'AG', b'AH', b'AI', b'AJ', b'AK', b'AL'})"
            ]
          },
          "execution_count": 15,
          "metadata": {
            "tags": []
          },
          "output_type": "execute_result"
        }
      ],
      "source": [
        "# only one dataset type\n",
        "idx = np.unique(ds1[3], return_index=True)\n",
        "idx[0], set(ds1[3])"
      ]
    },
    {
      "cell_type": "code",
      "execution_count": 16,
      "metadata": {
        "colab": {
          "base_uri": "https://localhost:8080/"
        },
        "id": "S6vmIhoJXUuz",
        "outputId": "bf26466d-ed63-4e7c-a63f-97e2f1201ee2"
      },
      "outputs": [
        {
          "data": {
            "text/plain": [
              "[b'AC', b'AD', b'AE', b'AF', b'AG', b'AH', b'AI', b'AJ', b'AK', b'AL']"
            ]
          },
          "execution_count": 16,
          "metadata": {
            "tags": []
          },
          "output_type": "execute_result"
        }
      ],
      "source": [
        "SESSION_LIST = np.unique(ds1[3]).tolist()\n",
        "SESSION_LIST"
      ]
    },
    {
      "cell_type": "code",
      "execution_count": 17,
      "metadata": {
        "id": "D8WvtePJ3EGF"
      },
      "outputs": [],
      "source": [
        "def normalize(dat):\n",
        "    return (dat - dat.min()) / (dat.max() - dat.min())"
      ]
    },
    {
      "cell_type": "code",
      "execution_count": 18,
      "metadata": {
        "colab": {
          "base_uri": "https://localhost:8080/",
          "height": 340
        },
        "id": "cGfRu8CmS7Ui",
        "outputId": "825521e9-1202-4482-c2a8-5dfd4affadf0"
      },
      "outputs": [
        {
          "data": {
            "image/png": "[encoded data removed]",
            "text/plain": [
              "<Figure size 1440x360 with 4 Axes>"
            ]
          },
          "metadata": {
            "needs_background": "light",
            "tags": []
          },
          "output_type": "display_data"
        }
      ],
      "source": [
        "# ppg vs ekg\n",
        "fig, (ax1, ax2, ax3, ax4) = plt.subplots(1,4, figsize=(20,5))\n",
        "\n",
        "nlim = 5000\n",
        "\n",
        "ax1.plot((np.array(ds1[6]))[:nlim])\n",
        "ax1.set_title('ROI', fontsize=18)\n",
        "ax2.plot((np.array(ds1[4]))[:nlim])\n",
        "ax2.set_title('EKG', fontsize=18)\n",
        "ax3.plot((np.array(ds1[5]))[:nlim])\n",
        "ax3.set_title('PPG', fontsize=18)\n",
        "\n",
        "ax4.plot(normalize(np.array(ds1[4])[:nlim]))\n",
        "ax4.plot(normalize(np.array(ds1[5])[:nlim])**2)\n",
        "ax4.plot(normalize(np.array(ds1[6])[:nlim]), alpha=0.4)\n",
        "# ax4.plot(normalize(np.array(ds1[6])[aq][:nlim])-normalize(np.array(ds1[4])[aq][:nlim]))\n",
        "ax4.set_title('ALL(normalized)', fontsize=18)\n",
        "\n",
        "plt.savefig(dirpathimg + 'overlap_original.png', bbox_inches='tight')"
      ]
    },
    {
      "cell_type": "code",
      "execution_count": 19,
      "metadata": {
        "id": "R51-gk8986Wn"
      },
      "outputs": [],
      "source": [
        "new_ds = np.array([])\n",
        "new_ds = [[] for i in range(7)]\n",
        "\n",
        "for i, dat in enumerate(ds1):\n",
        "    new_ds[i] = np.array(dat)"
      ]
    },
    {
      "cell_type": "code",
      "execution_count": 20,
      "metadata": {
        "colab": {
          "base_uri": "https://localhost:8080/"
        },
        "id": "KYIUH4PV_IfE",
        "outputId": "40465254-a57a-4124-b08c-5b0b468f1bb4"
      },
      "outputs": [
        {
          "data": {
            "text/plain": [
              "array([0, 0, 0, ..., 0, 0, 0])"
            ]
          },
          "execution_count": 20,
          "metadata": {
            "tags": []
          },
          "output_type": "execute_result"
        }
      ],
      "source": [
        "# binarize boolean\n",
        "new_ds[2] = new_ds[2] + 0\n",
        "new_ds[2]"
      ]
    },
    {
      "cell_type": "code",
      "execution_count": 21,
      "metadata": {
        "id": "vflgtICX_Un7"
      },
      "outputs": [],
      "source": [
        "# data, time, stimulus, dataset, ekg, ppg\n",
        "ds_by_session = [[] for i in range(10)]\n",
        "\n",
        "for i, b_id in enumerate(SESSION_LIST):\n",
        "    idx = new_ds[3] == b_id\n",
        "    ds_by_session[i].append(new_ds[1][idx]) #time\n",
        "    ds_by_session[i].append(new_ds[2][idx]) #stimulus\n",
        "    ds_by_session[i].append(np.array([new_ds[6][idx], new_ds[4][idx], new_ds[5][idx]]).T) #ekg, ppg, hologram ROI"
      ]
    },
    {
      "cell_type": "code",
      "execution_count": 22,
      "metadata": {
        "id": "2wVmH7JWh0pm"
      },
      "outputs": [],
      "source": [
        "def check_discontinuity(data):\n",
        "    '''input is a list of 0 and 1'''\n",
        "    new_list = [[], []]\n",
        "    temp = []\n",
        "    for i in range(len(data)-1):\n",
        "        temp.append(i)\n",
        "        if data[i] != data[i+1]:\n",
        "            new_list[data[i]].append(temp)\n",
        "            temp = []\n",
        "    if len(temp) != 0:\n",
        "        new_list[data[temp[0]]].append(temp)\n",
        "    return new_list"
      ]
    },
    {
      "cell_type": "code",
      "execution_count": 23,
      "metadata": {
        "id": "b5bJlH8Zexyv"
      },
      "outputs": [],
      "source": [
        "# raw/detrend plots\n",
        "if False:\n",
        "    for sess in range(10):\n",
        "\n",
        "        t_i = np.arange(0,ds_by_session[sess][2][:,0].shape[0])\n",
        "        t = ds_by_session[sess][1]\n",
        "\n",
        "        fig, axs = plt.subplots(3,2, figsize=(14*2,7*3))\n",
        "\n",
        "        for i in range(6):\n",
        "            r = i%3\n",
        "            c = i//3 \n",
        "        \n",
        "            if c == 0:\n",
        "                axs[r,c].scatter(t_i[trim:-trim], ds_by_session[sess][2][:,r][trim:-trim], ls='-', marker='.', s=1, c=t[trim:-trim])\n",
        "                axs[r,c].plot(t_i[trim:-trim], trends[sess][r][trim:-trim], 'r-')\n",
        "            else:\n",
        "                axs[r,c].scatter(t_i[trim:-trim], detrended_wave[sess][r][trim:-trim], ls='-', marker='.', s=1, c=t[trim:-trim])\n",
        "\n",
        "        labels = ['hologram ROI', 'EKG', 'PPG']\n",
        "\n",
        "        for i, lab in enumerate((ax1,ax2,ax3)):\n",
        "            lab.set_title(labels[i], fontsize=25)\n",
        "\n",
        "        fig.savefig(dirpathimg + f'vidualization/data_visualization_{sess}.png', bbox_inches='tight')"
      ]
    },
    {
      "cell_type": "markdown",
      "metadata": {
        "id": "9ixwU_RUZHDw"
      },
      "source": [
        "## Detrending"
      ]
    },
    {
      "cell_type": "code",
      "execution_count": 24,
      "metadata": {
        "colab": {
          "base_uri": "https://localhost:8080/"
        },
        "id": "Jr3kCMLaZuOO",
        "outputId": "020e3b5d-d494-4c24-b2eb-2f914b510367"
      },
      "outputs": [
        {
          "name": "stderr",
          "output_type": "stream",
          "text": [
            "/usr/local/lib/python3.6/dist-packages/statsmodels/tools/_testing.py:19: FutureWarning: pandas.util.testing is deprecated. Use the functions in the public API at pandas.testing instead.\n",
            "  import pandas.util.testing as tm\n"
          ]
        }
      ],
      "source": [
        "from scipy import signal\n",
        "import statsmodels.api as sm\n",
        "try:\n",
        "    from obspy.signal.detrend import polynomial\n",
        "except:\n",
        "    %pip install obspy\n",
        "    from obspy.signal.detrend import polynomial  \n",
        "\n",
        "import warnings\n",
        "warnings.simplefilter('ignore', np.RankWarning)  "
      ]
    },
    {
      "cell_type": "code",
      "execution_count": 25,
      "metadata": {
        "id": "h2jtgx2Ibcf4"
      },
      "outputs": [],
      "source": [
        "# fitting trends\n",
        "from IPython.display import clear_output\n",
        "\n",
        "trends = []\n",
        "\n",
        "for sess in range(10):\n",
        "    trends.append([])\n",
        "    for i in range(3):\n",
        "        data = ds_by_session[sess][2][:,i]\n",
        "        x = np.arange(len(data))\n",
        "        fit = np.polyval(np.polyfit(x, data, deg=15), x);\n",
        "        trends[sess].append(fit)\n",
        "        \n",
        "clear_output()"
      ]
    },
    {
      "cell_type": "code",
      "execution_count": 26,
      "metadata": {
        "colab": {
          "base_uri": "https://localhost:8080/",
          "height": 1000
        },
        "id": "xEGWJQKXiqjZ",
        "outputId": "9b6ba7ea-27e6-4785-ba76-91440b917a56"
      },
      "outputs": [
        {
          "data": {
            "image/png": "[encoded data removed]",
            "text/plain": [
              "<Figure size 576x360 with 2 Axes>"
            ]
          },
          "metadata": {
            "needs_background": "light",
            "tags": []
          },
          "output_type": "display_data"
        },
        {
          "data": {
            "image/png": "[encoded data removed]",
            "text/plain": [
              "<Figure size 576x360 with 2 Axes>"
            ]
          },
          "metadata": {
            "needs_background": "light",
            "tags": []
          },
          "output_type": "display_data"
        },
        {
          "data": {
            "image/png": "[encoded data removed]",
            "text/plain": [
              "<Figure size 576x360 with 2 Axes>"
            ]
          },
          "metadata": {
            "needs_background": "light",
            "tags": []
          },
          "output_type": "display_data"
        }
      ],
      "source": [
        "detrended_wave = []\n",
        "plot = True\n",
        "\n",
        "for sess in range(10):\n",
        "    detrended_wave.append([])\n",
        "    for i in range(3):\n",
        "        ds_detrend_ppg = ds_by_session[sess][2][:,i].copy()\n",
        "        if plot:\n",
        "            detrended_wave[sess].append(polynomial(ds_detrend_ppg,15,plot=plot))            \n",
        "        else:\n",
        "            detrended_wave[sess].append(polynomial(ds_detrend_ppg,15,plot=plot))\n",
        "    if plot: plot = False"
      ]
    },
    {
      "cell_type": "code",
      "execution_count": 27,
      "metadata": {
        "colab": {
          "base_uri": "https://localhost:8080/",
          "height": 340
        },
        "id": "Gei96qQ2Zp1Z",
        "outputId": "f7b98e7c-d098-44b4-b3cb-0d4c47400c2a"
      },
      "outputs": [
        {
          "data": {
            "image/png": "[encoded data removed]",
            "text/plain": [
              "<Figure size 1440x360 with 4 Axes>"
            ]
          },
          "metadata": {
            "needs_background": "light",
            "tags": []
          },
          "output_type": "display_data"
        }
      ],
      "source": [
        "# ppg vs ekg (out of sync possibly due to the slanted nature of PPG waveform)\n",
        "fig, (ax1, ax2, ax3, ax4) = plt.subplots(1,4, figsize=(20,5))\n",
        "\n",
        "nlim = 5000\n",
        "dsview = ds1\n",
        "\n",
        "ax1.set_title('original PPG', fontsize=18)\n",
        "ax1.plot((np.array(ds1[5]))[:nlim], 'b-')\n",
        "\n",
        "ax2.set_title('detrended PPG', fontsize=18)\n",
        "ax2.plot(ds_detrend_ppg[:nlim][::1], 'r-')\n",
        "\n",
        "ax3.set_title('Overlap', fontsize=18)\n",
        "ax3.plot(normalize(np.array(ds1[5])[:nlim]), 'b-')\n",
        "ax3.plot(normalize(ds_detrend_ppg[:nlim][::1]), 'r-')\n",
        "\n",
        "ax4.plot(normalize(np.array(ds1[6])[:nlim]),'g-')\n",
        "ax4.plot(normalize(np.array(ds1[5])[:nlim]), 'b-')\n",
        "ax4.plot(normalize(np.array(ds_detrend_ppg)[:nlim][::1]), 'r-', alpha=1.0)\n",
        "ax4.set_title('Overlap(+ROI)', fontsize=18)\n",
        "\n",
        "plt.savefig(dirpathimg + 'detrended.png', bbox_inches='tight')"
      ]
    },
    {
      "cell_type": "code",
      "execution_count": 28,
      "metadata": {
        "id": "ov9rKXzgqpUN"
      },
      "outputs": [],
      "source": [
        "#detrend the data\n",
        "for j in range(3):\n",
        "    for i in range(10):\n",
        "        polynomial(ds_by_session[i][2][:,j],15);\n",
        "clear_output()"
      ]
    },
    {
      "cell_type": "markdown",
      "metadata": {
        "id": "e-7sRDmBOfgf"
      },
      "source": [
        "## Binning and fast dcorr"
      ]
    },
    {
      "cell_type": "code",
      "execution_count": 29,
      "metadata": {
        "id": "J1mGfet0vRgX"
      },
      "outputs": [],
      "source": [
        "#instantiate hyppo packages \n",
        "dcorr = hyppo.independence.Dcorr()\n",
        "mgc   = hyppo.independence.MGC()\n",
        "kmerf = hyppo.independence.KMERF()"
      ]
    },
    {
      "cell_type": "code",
      "execution_count": 30,
      "metadata": {
        "colab": {
          "base_uri": "https://localhost:8080/"
        },
        "id": "_8ua2DAzGEHW",
        "outputId": "e6aa20f7-6921-46f0-d1f8-b5f933d12296"
      },
      "outputs": [
        {
          "name": "stdout",
          "output_type": "stream",
          "text": [
            "b'AC' : 68469\n",
            "b'AD' : 68623\n",
            "b'AE' : 68557\n",
            "b'AF' : 68233\n",
            "b'AG' : 68237\n",
            "b'AH' : 68553\n",
            "b'AI' : 68612\n",
            "b'AJ' : 68177\n",
            "b'AK' : 68603\n",
            "b'AL' : 68305\n"
          ]
        }
      ],
      "source": [
        "for i in range(10):\n",
        "    print(SESSION_LIST[i], ':', ds_by_session[i][0].shape[0])"
      ]
    },
    {
      "cell_type": "code",
      "execution_count": 31,
      "metadata": {
        "colab": {
          "base_uri": "https://localhost:8080/"
        },
        "id": "p61GmoSSMg7J",
        "outputId": "f63f864f-c6c0-40fe-ee13-d28dd62b6024"
      },
      "outputs": [
        {
          "data": {
            "text/plain": [
              "(68469,)"
            ]
          },
          "execution_count": 31,
          "metadata": {
            "tags": []
          },
          "output_type": "execute_result"
        }
      ],
      "source": [
        "#size before binning\n",
        "ds_by_session[0][0].shape"
      ]
    },
    {
      "cell_type": "code",
      "execution_count": 32,
      "metadata": {
        "id": "mRHmvDJC3BD5"
      },
      "outputs": [],
      "source": [
        "def binning(ds, k=10):\n",
        "    '''follows ds_by_session structure\n",
        "    ds = narray embedded in a list\n",
        "    k = number of bins\n",
        "    '''\n",
        "    # new_ds = np.array([])\n",
        "    new_ds = []\n",
        "    st_lst = [] #new baseline vs stimulus binary\n",
        "\n",
        "    for s in tqdm(range(len(ds))): #session\n",
        "        new_ds.append([])\n",
        "        st_lst.append([])\n",
        "\n",
        "        for i in range(ds[s][2].shape[0]-k): #[time, stimulus, (roi, ekg, ppg)]\n",
        "            st = np.unique(ds[s][1][i:i+k])\n",
        "            if st.size == 1:\n",
        "                st_lst[s].append(st[0])\n",
        "                new_ds[s].append(ds[s][2][i:i+k].tolist())\n",
        "                \n",
        "    return new_ds, st_lst"
      ]
    },
    {
      "cell_type": "code",
      "execution_count": 33,
      "metadata": {
        "colab": {
          "base_uri": "https://localhost:8080/",
          "height": 115,
          "referenced_widgets": [
            "81dc8e5695324012bfc6ed1f987a5630",
            "97c065bb1bed4365a3a97cc59f327bfc",
            "30cb94c710384fa9ae5dd10a39d16ecc",
            "d3770dd8e83440658b856ab85a0a0a38",
            "602c3e0629ce43d6b1ea1b00479e0364",
            "7975784027964a7e8fbb2097eb87914c",
            "29a4e8153d6e4d0aa3cbeac1962ec704",
            "b0423b637b4041a2896b57d0e44ba48f",
            "c43ac65572dc49a49f130a771bc2f71a",
            "c7e99ec80203464484116be73920b453",
            "3eac8cc0e95c458c8018f86ff8005789",
            "6327e60786584bc0b2f77f7236a2c80d",
            "0707cc8e9b9d4fc8b43fdf79f8b7a718",
            "7212053380964f999ba1d3c22a3399b4",
            "212586f65b9947c49c350b12bcffae3f",
            "ea470e40dc004d9a95ba7797bb0ef058",
            "2ee63d7679524fcd93677143d5c3ba8c",
            "54f204d0538349318a49537c5ed67a53",
            "2602e317fe7d495fbb9ad068c8afae32",
            "a829ed9c89e0494db89b38aa7caaee73",
            "cfb43e8e96164403adb6e0ca9b2bad53",
            "8782d482b9cf4e9da5ee2b63ffd81f7a",
            "f50d978240794802a7ed61fbf0e13874",
            "86c8c7f613c048b39521c6e2380009b9",
            "f69b00bd0fca4d2a83e94214ab080558",
            "f88b82ea583f45198ceed85cf60916e4",
            "ed941e2d55e1495082268c26f9fcdfff",
            "4db67d250b664d048a380277b4411c02",
            "06f088f9ef574daa85053cc4009fbd4a",
            "049b0555098a45c78637da7befa88a8a",
            "02f1ea6ba1f84848bf37f0e41deeea1c",
            "1fd08be1d7e04b509169ceb32b201bdf",
            "e960b791d72d4abb8774ef154b6f9687",
            "0271645e291d473db511c9ac8fcec5e5",
            "76b227e325824503a62420b63966dc99",
            "a89e945ed2cd4788b4d41d9ffdac8021",
            "86513579d92345fd88cc03931acf23c5",
            "5b18d6d679e44e01af71c2e51522c4ef",
            "2fa723765b3c49ca956da9cbdf735465",
            "969ce68c8c314a53994f47a0d2bf3688",
            "a521a3142f1846eeb4f20dafa91d9eb8",
            "880bad71ddfe4a2f952bb0589bf4b7ed",
            "3a74b173ee394dbe8a03a94743e1c7f1",
            "01b2405992d2475f9c50cd92d9efc12b",
            "978638fe2c224b6e99b32fda066365f7",
            "fb78070ae8f64f34bcebd54361b2b32d",
            "0cc4f7ba4aa247ad947ea960842ed31c",
            "2efc9a25dcf94db2a78a82f5727d8b21",
            "9bff532c7ed3498c9a530b5a72f6422e",
            "77b172742f2343b8beba85273cf3e45c",
            "5efa7fe1b81a4f769e72ed2ce6259ee7",
            "0d248e64533044e08860985fe100040c",
            "b270bd0a54524f4b91586aeed056ea44",
            "e3475846e92642fba806406510f6c446",
            "d57d417ed82a468780142398b958bb17",
            "9954dfbcb2464fd4bcc87aa759eaa017",
            "f31ed6b6b6744596b899a7b1e9f06670",
            "b3b915b6d8674cf4bc64166d5393696a",
            "5150f531528042f2880e0dd35e95e01f",
            "8c47272c491c49a3b22530391e952dd1",
            "2cc57632dc03487a9891e48f0c362fbe",
            "682e79edf2764658a480ebbcbd2f0541",
            "a71895d012af4905a8930500ea69fa62",
            "ed7a1822536848088639bd2c921a56ab",
            "e06811328e144a9d8774fc89a2fdb1f6",
            "a3acc7ede6244ed095cd45a239051652",
            "7a2ce8b27430477981307348f4f71399",
            "eedc8fee2c9e4da692fd3996f0a93be0",
            "9f6fd226a2514aa29fe0c140cc02ac64",
            "23d29a30463440958185602c1fbb913c",
            "5caa02d5f985408095d2673d6b62c6ae",
            "bba7944446f44f41b2975e432bf64b99",
            "1a4e409b97c94665a452dcb2e86634d7",
            "482707f749e143f59769d4306866be02",
            "36dae3a10c89496f9f86bf8ddb372d5a",
            "cd7e32d85902483babda33efb43d91fe",
            "e3fec3a438744553859ff89932fe217b",
            "93667f7e7dec4182941fb00feb4eb66f",
            "24f3ff9fdd8e4463bba61f61b87cbc3b",
            "431c464983ed4453b323acd43439c795",
            "cb5e78ac2fbf4f4d863bdd1a22d114cc",
            "a3b8b24409a048f6b509573e4d510b71",
            "a956e4b9006a47299bd2eb83e37e5aee",
            "41874e89f8784aeeb0b57f404ff5371f",
            "51eb268714174832b327501369455078",
            "08f0b2dd1c064838a2686fc0eef24618",
            "66a703c14cc24fb69bada2bc1bc78771",
            "b5c9f188fff34a3f982a182093bced06",
            "cd9ca685efbc465c893caeb12aab750c",
            "df92b13a779a4529967cf050cbd8da63",
            "ee9ee8a5fde344b7989902fb2561f899",
            "a52daccae94d4efea2a9223fe5efd43f",
            "4acc45d0f0184e20b2ed6c9edab0f550",
            "f53e3cf1cfeb4a5eb5bdefc2e7b8408a",
            "8a713305863d4f1d891f0abc0e65e564",
            "227dc3880deb4087a41cb98c99d87b5c"
          ]
        },
        "id": "qj70j8UecUa7",
        "outputId": "d493ba59-df1f-40c4-896f-67c6ff569574"
      },
      "outputs": [
        {
          "data": {
            "application/vnd.jupyter.widget-view+json": {
              "model_id": "81dc8e5695324012bfc6ed1f987a5630",
              "version_major": 2,
              "version_minor": 0
            },
            "text/plain": [
              "HBox(children=(FloatProgress(value=0.0, max=10.0), HTML(value='')))"
            ]
          },
          "metadata": {
            "tags": []
          },
          "output_type": "display_data"
        },
        {
          "name": "stdout",
          "output_type": "stream",
          "text": [
            "\n"
          ]
        },
        {
          "data": {
            "application/vnd.jupyter.widget-view+json": {
              "model_id": "c43ac65572dc49a49f130a771bc2f71a",
              "version_major": 2,
              "version_minor": 0
            },
            "text/plain": [
              "HBox(children=(FloatProgress(value=0.0, max=10.0), HTML(value='')))"
            ]
          },
          "metadata": {
            "tags": []
          },
          "output_type": "display_data"
        },
        {
          "data": {
            "application/vnd.jupyter.widget-view+json": {
              "model_id": "2ee63d7679524fcd93677143d5c3ba8c",
              "version_major": 2,
              "version_minor": 0
            },
            "text/plain": [
              "HBox(children=(FloatProgress(value=0.0, max=3.0), HTML(value='')))"
            ]
          },
          "metadata": {
            "tags": []
          },
          "output_type": "display_data"
        },
        {
          "data": {
            "application/vnd.jupyter.widget-view+json": {
              "model_id": "f69b00bd0fca4d2a83e94214ab080558",
              "version_major": 2,
              "version_minor": 0
            },
            "text/plain": [
              "HBox(children=(FloatProgress(value=0.0, max=3.0), HTML(value='')))"
            ]
          },
          "metadata": {
            "tags": []
          },
          "output_type": "display_data"
        },
        {
          "data": {
            "application/vnd.jupyter.widget-view+json": {
              "model_id": "e960b791d72d4abb8774ef154b6f9687",
              "version_major": 2,
              "version_minor": 0
            },
            "text/plain": [
              "HBox(children=(FloatProgress(value=0.0, max=3.0), HTML(value='')))"
            ]
          },
          "metadata": {
            "tags": []
          },
          "output_type": "display_data"
        },
        {
          "data": {
            "application/vnd.jupyter.widget-view+json": {
              "model_id": "a521a3142f1846eeb4f20dafa91d9eb8",
              "version_major": 2,
              "version_minor": 0
            },
            "text/plain": [
              "HBox(children=(FloatProgress(value=0.0, max=3.0), HTML(value='')))"
            ]
          },
          "metadata": {
            "tags": []
          },
          "output_type": "display_data"
        },
        {
          "data": {
            "application/vnd.jupyter.widget-view+json": {
              "model_id": "9bff532c7ed3498c9a530b5a72f6422e",
              "version_major": 2,
              "version_minor": 0
            },
            "text/plain": [
              "HBox(children=(FloatProgress(value=0.0, max=3.0), HTML(value='')))"
            ]
          },
          "metadata": {
            "tags": []
          },
          "output_type": "display_data"
        },
        {
          "data": {
            "application/vnd.jupyter.widget-view+json": {
              "model_id": "f31ed6b6b6744596b899a7b1e9f06670",
              "version_major": 2,
              "version_minor": 0
            },
            "text/plain": [
              "HBox(children=(FloatProgress(value=0.0, max=3.0), HTML(value='')))"
            ]
          },
          "metadata": {
            "tags": []
          },
          "output_type": "display_data"
        },
        {
          "data": {
            "application/vnd.jupyter.widget-view+json": {
              "model_id": "e06811328e144a9d8774fc89a2fdb1f6",
              "version_major": 2,
              "version_minor": 0
            },
            "text/plain": [
              "HBox(children=(FloatProgress(value=0.0, max=3.0), HTML(value='')))"
            ]
          },
          "metadata": {
            "tags": []
          },
          "output_type": "display_data"
        },
        {
          "data": {
            "application/vnd.jupyter.widget-view+json": {
              "model_id": "1a4e409b97c94665a452dcb2e86634d7",
              "version_major": 2,
              "version_minor": 0
            },
            "text/plain": [
              "HBox(children=(FloatProgress(value=0.0, max=3.0), HTML(value='')))"
            ]
          },
          "metadata": {
            "tags": []
          },
          "output_type": "display_data"
        },
        {
          "data": {
            "application/vnd.jupyter.widget-view+json": {
              "model_id": "cb5e78ac2fbf4f4d863bdd1a22d114cc",
              "version_major": 2,
              "version_minor": 0
            },
            "text/plain": [
              "HBox(children=(FloatProgress(value=0.0, max=3.0), HTML(value='')))"
            ]
          },
          "metadata": {
            "tags": []
          },
          "output_type": "display_data"
        },
        {
          "data": {
            "application/vnd.jupyter.widget-view+json": {
              "model_id": "cd9ca685efbc465c893caeb12aab750c",
              "version_major": 2,
              "version_minor": 0
            },
            "text/plain": [
              "HBox(children=(FloatProgress(value=0.0, max=3.0), HTML(value='')))"
            ]
          },
          "metadata": {
            "tags": []
          },
          "output_type": "display_data"
        },
        {
          "name": "stdout",
          "output_type": "stream",
          "text": [
            "\n"
          ]
        }
      ],
      "source": [
        "#dcorr testing pipeline\n",
        "dsetID = ['1027', '1130_s1', '1130_s3', '1112', '1118'][dataset]\n",
        "bypass = False\n",
        "results = []\n",
        "\n",
        "# filename = dirpath2 + f'results_{dsetID}_dcorr_k={BIN_NUM}.pickle' #original\n",
        "# filename = dirpath2 + f'results_{dsetID}_dcorr_k={BIN_NUM}_detrend_all.pickle' #detrended\n",
        "filename = dirpath2 + f'results_{dsetID}_dcorr_k={BIN_NUM}_detrend_all_trim.pickle' #detrended and trimmed\n",
        "\n",
        "if os.path.exists(filename) and bypass:\n",
        "    with open(filename, 'rb') as f:\n",
        "        results = pickle.load(f, encoding='bytes')\n",
        "        print(f'[{filename}] LOADED')\n",
        "else:    \n",
        "    ds_by_session_bin, st_lst = binning(ds_by_session, k=BIN_NUM)\n",
        "\n",
        "    for i in tqdm(range(10)):\n",
        "        new_idx = np.arange(0,len(ds_by_session_bin[i]), 6) #choose every 6th\n",
        "        new_x = np.array(ds_by_session_bin[i])[new_idx][trim:-trim]\n",
        "        new_y = np.array(st_lst[i])[new_idx][trim:-trim]\n",
        "        results.append([])\n",
        "        new_wave = []\n",
        "        for j in tqdm(range(3), leave=False):        \n",
        "            results[i].append(dcorr.test(new_x[:,:,j],new_y, reps=0))\n",
        "            # new_wave.append(normalize(new_x[:,:,j]))\n",
        "        # r_e = new_wave[2] - new_wave[0]\n",
        "        # r_p = new_wave[2] - new_wave[1]\n",
        "        # r_ep = new_wave[2] - new_wave[1] - new_wave[0]\n",
        "        # for k in tqdm([r_e, r_p, r_ep], leave=False):        \n",
        "        #     results[i].append(dcorr.test(k,new_y, reps=0))\n",
        "\n",
        "    with open(filename, 'wb') as f:\n",
        "        pickle.dump(results, f)"
      ]
    },
    {
      "cell_type": "markdown",
      "metadata": {
        "id": "Xr279xCXnjh3"
      },
      "source": [
        "## Statistical analysis\n",
        "1. dcorr\n",
        "2. t-test (1-sample, 2-sample)"
      ]
    },
    {
      "cell_type": "code",
      "execution_count": 35,
      "metadata": {
        "id": "AjT8-ML7T8S5"
      },
      "outputs": [],
      "source": [
        "# get rid of extremely low p-val\n",
        "results2 = np.array(results)\n",
        "\n",
        "for i, dat in enumerate(results2[:,:,1]):\n",
        "    results2[:,:,1][i][dat < 0.0001] = 0.0001"
      ]
    },
    {
      "cell_type": "code",
      "execution_count": 36,
      "metadata": {
        "id": "mcf_2FE9NXna"
      },
      "outputs": [],
      "source": [
        "match1 = np.where(results2[:,0,1] < 0.001)[0]\n",
        "match2 = np.where(results2[:,1,1] < 0.001)[0]"
      ]
    },
    {
      "cell_type": "code",
      "execution_count": 37,
      "metadata": {
        "colab": {
          "base_uri": "https://localhost:8080/",
          "height": 266
        },
        "id": "jfzFjcJW8DHt",
        "outputId": "05df2182-a415-44c1-b07e-6918067f42f2"
      },
      "outputs": [
        {
          "data": {
            "text/html": [
              "<div>\n",
              "<style scoped>\n",
              "    .dataframe tbody tr th:only-of-type {\n",
              "        vertical-align: middle;\n",
              "    }\n",
              "\n",
              "    .dataframe tbody tr th {\n",
              "        vertical-align: top;\n",
              "    }\n",
              "\n",
              "    .dataframe thead th {\n",
              "        text-align: right;\n",
              "    }\n",
              "</style>\n",
              "<table border=\"1\" class=\"dataframe\">\n",
              "  <thead>\n",
              "    <tr style=\"text-align: right;\">\n",
              "      <th></th>\n",
              "      <th>ROI</th>\n",
              "      <th>EKG</th>\n",
              "      <th>PPG</th>\n",
              "    </tr>\n",
              "  </thead>\n",
              "  <tbody>\n",
              "    <tr>\n",
              "      <th>Session(ROI) #2</th>\n",
              "      <td>0.000100</td>\n",
              "      <td>0.000100</td>\n",
              "      <td>0.000100</td>\n",
              "    </tr>\n",
              "    <tr>\n",
              "      <th>Session(ROI) #4</th>\n",
              "      <td>0.000100</td>\n",
              "      <td>0.028997</td>\n",
              "      <td>0.000225</td>\n",
              "    </tr>\n",
              "    <tr>\n",
              "      <th>Session(ROI) #5</th>\n",
              "      <td>0.000928</td>\n",
              "      <td>0.000100</td>\n",
              "      <td>0.000100</td>\n",
              "    </tr>\n",
              "    <tr>\n",
              "      <th>Session(EKG) #2</th>\n",
              "      <td>0.000100</td>\n",
              "      <td>0.000100</td>\n",
              "      <td>0.000100</td>\n",
              "    </tr>\n",
              "    <tr>\n",
              "      <th>Session(EKG) #3</th>\n",
              "      <td>0.099063</td>\n",
              "      <td>0.000933</td>\n",
              "      <td>0.000100</td>\n",
              "    </tr>\n",
              "    <tr>\n",
              "      <th>Session(EKG) #5</th>\n",
              "      <td>0.000928</td>\n",
              "      <td>0.000100</td>\n",
              "      <td>0.000100</td>\n",
              "    </tr>\n",
              "    <tr>\n",
              "      <th>Session(EKG) #7</th>\n",
              "      <td>0.089177</td>\n",
              "      <td>0.000100</td>\n",
              "      <td>0.000100</td>\n",
              "    </tr>\n",
              "  </tbody>\n",
              "</table>\n",
              "</div>"
            ],
            "text/plain": [
              "                      ROI       EKG       PPG\n",
              "Session(ROI) #2  0.000100  0.000100  0.000100\n",
              "Session(ROI) #4  0.000100  0.028997  0.000225\n",
              "Session(ROI) #5  0.000928  0.000100  0.000100\n",
              "Session(EKG) #2  0.000100  0.000100  0.000100\n",
              "Session(EKG) #3  0.099063  0.000933  0.000100\n",
              "Session(EKG) #5  0.000928  0.000100  0.000100\n",
              "Session(EKG) #7  0.089177  0.000100  0.000100"
            ]
          },
          "execution_count": 37,
          "metadata": {
            "tags": []
          },
          "output_type": "execute_result"
        }
      ],
      "source": [
        "df_match = pd.DataFrame(np.vstack([results2[match1][:,:,1], results2[match2][:,:,1]]), columns=['ROI', 'EKG', 'PPG'])\n",
        "df_match.index = ['Session(ROI) #' + str(i) for i in match1] + ['Session(EKG) #' + str(i) for i in match2]\n",
        "df_match"
      ]
    },
    {
      "cell_type": "code",
      "execution_count": 38,
      "metadata": {
        "colab": {
          "base_uri": "https://localhost:8080/",
          "height": 111
        },
        "id": "ajnIwd8APwV4",
        "outputId": "5f0170f8-6b10-4a03-e447-a6dfe3eb0596"
      },
      "outputs": [
        {
          "data": {
            "text/html": [
              "<div>\n",
              "<style scoped>\n",
              "    .dataframe tbody tr th:only-of-type {\n",
              "        vertical-align: middle;\n",
              "    }\n",
              "\n",
              "    .dataframe tbody tr th {\n",
              "        vertical-align: top;\n",
              "    }\n",
              "\n",
              "    .dataframe thead th {\n",
              "        text-align: right;\n",
              "    }\n",
              "</style>\n",
              "<table border=\"1\" class=\"dataframe\">\n",
              "  <thead>\n",
              "    <tr style=\"text-align: right;\">\n",
              "      <th></th>\n",
              "      <th>ROI</th>\n",
              "      <th>EKG</th>\n",
              "      <th>PPG</th>\n",
              "    </tr>\n",
              "  </thead>\n",
              "  <tbody>\n",
              "    <tr>\n",
              "      <th>Session(BOTH) #2</th>\n",
              "      <td>0.000100</td>\n",
              "      <td>0.0001</td>\n",
              "      <td>0.0001</td>\n",
              "    </tr>\n",
              "    <tr>\n",
              "      <th>Session(BOTH) #5</th>\n",
              "      <td>0.000928</td>\n",
              "      <td>0.0001</td>\n",
              "      <td>0.0001</td>\n",
              "    </tr>\n",
              "  </tbody>\n",
              "</table>\n",
              "</div>"
            ],
            "text/plain": [
              "                       ROI     EKG     PPG\n",
              "Session(BOTH) #2  0.000100  0.0001  0.0001\n",
              "Session(BOTH) #5  0.000928  0.0001  0.0001"
            ]
          },
          "execution_count": 38,
          "metadata": {
            "tags": []
          },
          "output_type": "execute_result"
        }
      ],
      "source": [
        "match3 = np.intersect1d(match1, match2)\n",
        "df_match = pd.DataFrame(results2[match3][:,:,1], columns=['ROI', 'EKG', 'PPG'])\n",
        "df_match.index = ['Session(BOTH) #' + str(i) for i in match3]\n",
        "df_match"
      ]
    },
    {
      "cell_type": "code",
      "execution_count": 39,
      "metadata": {
        "colab": {
          "base_uri": "https://localhost:8080/",
          "height": 503
        },
        "id": "5pVCyjAeVT7f",
        "outputId": "67563b40-7dac-441a-de9d-c2d3d40e107d"
      },
      "outputs": [
        {
          "data": {
            "image/png": "[encoded data removed]",
            "text/plain": [
              "<Figure size 1296x576 with 2 Axes>"
            ]
          },
          "metadata": {
            "needs_background": "light",
            "tags": []
          },
          "output_type": "display_data"
        }
      ],
      "source": [
        "f = plt.figure(figsize=(6*3,4*2))\n",
        "col = ['ROI', 'EKG', 'PPG', 'ROI-EKG', 'ROI-PPG', 'ROI-EKG-PPG']\n",
        "\n",
        "gs = f.add_gridspec(1, 2)\n",
        "\n",
        "ax = f.add_subplot(gs[0, 0])\n",
        "ax.set_title('Dcorr Stat', fontsize=18)\n",
        "sns.stripplot(data=pd.DataFrame(np.array(results2)[:,:3,0],columns=col[:3])) #first three columns\n",
        "\n",
        "ax = f.add_subplot(gs[0, 1])\n",
        "ax.set_title('P-value', fontsize=18)\n",
        "plt.yscale('log')\n",
        "sns.stripplot(data=pd.DataFrame(np.array(results2)[:,:3,1],columns=col[:3]))\n",
        "\n",
        "plt.savefig('new_bin_dcorr_plot.png', bbox_inches='tight')"
      ]
    },
    {
      "cell_type": "code",
      "execution_count": 40,
      "metadata": {
        "colab": {
          "base_uri": "https://localhost:8080/",
          "height": 115,
          "referenced_widgets": [
            "e3e83237b56540518bb717b14e778d66",
            "2926189b07104676b64fbd2836658ab0",
            "8a507bb51e644e818336b61b9e918290",
            "3ad889b22a3d477cab420e859853b5af",
            "b3a1ec9f1761424e9fb35259040b8549",
            "487ed12828f44216b0ec5aa34009231d",
            "54a260e227b64949a80b725326877b67",
            "de92fc54fa994c93aa48e6e4f3cb9abf",
            "d0fd21653e964067a05a9ea8787246ed",
            "28ef9b3526ff415f9c4507ee18c3ced5",
            "c67738c6c6e24abc84134827f3b7878c",
            "6ea75109c1274480821954b2fc1de9b4",
            "cbb38e9dcbf2489f9b615f25035d01ad",
            "273af5b7c7ce4274a87eece5494c5cc1",
            "ee2293e2a86a4d3eb880df621462209f",
            "9209e7eee4e540c6907a57d81b698400"
          ]
        },
        "id": "fxj6czom5Cpc",
        "outputId": "b17c262c-b884-4ae5-e6cd-a6949be57906"
      },
      "outputs": [
        {
          "data": {
            "application/vnd.jupyter.widget-view+json": {
              "model_id": "e3e83237b56540518bb717b14e778d66",
              "version_major": 2,
              "version_minor": 0
            },
            "text/plain": [
              "HBox(children=(FloatProgress(value=0.0, max=10.0), HTML(value='')))"
            ]
          },
          "metadata": {
            "tags": []
          },
          "output_type": "display_data"
        },
        {
          "name": "stdout",
          "output_type": "stream",
          "text": [
            "\n"
          ]
        },
        {
          "data": {
            "application/vnd.jupyter.widget-view+json": {
              "model_id": "d0fd21653e964067a05a9ea8787246ed",
              "version_major": 2,
              "version_minor": 0
            },
            "text/plain": [
              "HBox(children=(FloatProgress(value=0.0, max=10.0), HTML(value='')))"
            ]
          },
          "metadata": {
            "tags": []
          },
          "output_type": "display_data"
        },
        {
          "name": "stdout",
          "output_type": "stream",
          "text": [
            "\n"
          ]
        }
      ],
      "source": [
        "# concatenate X and y for pairplot\n",
        "newX, newY = [], []\n",
        "ds_by_session_bin, st_lst = binning(ds_by_session, k=BIN_NUM)\n",
        "\n",
        "for i in tqdm(range(10)):\n",
        "    \n",
        "    newX.append([])\n",
        "    newY.append([])\n",
        "    \n",
        "    new_idx = np.arange(0,len(ds_by_session_bin[i]), 6) #choose every 6th\n",
        "    new_x = np.array(ds_by_session_bin[i])[new_idx]\n",
        "    new_y = np.array(st_lst[i])[new_idx]\n",
        "    \n",
        "    newX[i] = new_x\n",
        "    newY[i] = new_y\n",
        "\n",
        "ds_by_session_bin_detrend = ds_by_session_bin.copy()"
      ]
    },
    {
      "cell_type": "markdown",
      "metadata": {
        "id": "DQqzYqGUQWmy"
      },
      "source": [
        "List Validation\n",
        "\n",
        "23.042, 40.836, -92.794, 15.993"
      ]
    },
    {
      "cell_type": "code",
      "execution_count": 41,
      "metadata": {
        "colab": {
          "base_uri": "https://localhost:8080/"
        },
        "id": "v6pQBUdKP99g",
        "outputId": "8bba5102-bb4e-4285-c3ad-0ddcf3cf4d60"
      },
      "outputs": [
        {
          "name": "stdout",
          "output_type": "stream",
          "text": [
            "23.042, 40.836, -92.794, 15.993\n"
          ]
        }
      ],
      "source": [
        "print(f'{newX[0][0][0][0].round(3)}, {newX[3][0][0][0].round(3)}, {newX[5][0][0][0].round(3)}, {newX[7][0][0][0].round(3)}')"
      ]
    },
    {
      "cell_type": "code",
      "execution_count": 42,
      "metadata": {
        "id": "tCX3ERHQc8hk"
      },
      "outputs": [],
      "source": [
        "# plotting seaborn pairplot\n",
        "if False:\n",
        "    col = [f'Column #{i+1}' for i in range(10)] + ['Labels']\n",
        "    for j, char in enumerate(tqdm(['ROI', 'EKG', 'PPG'])):\n",
        "        for i in tqdm(range(10),leave=False):\n",
        "            fname = dirpathimg + f'pairplot/pairplot_{char}_{i}.png'\n",
        "            if os.path.exists(fname):\n",
        "                pass\n",
        "            else:\n",
        "                fig, ax = plt.subplots(1,1)\n",
        "                ax = sns.set(rc={'axes.facecolor':'cornflowerblue', 'axes.grid':'False'});#, 'figure.facecolor':'cornflowerblue'\n",
        "                ax = sns.pairplot(pd.DataFrame(np.column_stack([newX[i][:,:,j], newY[i]]), columns=col), hue='Labels', palette=['purple','yellow'])\n",
        "                plt.savefig(fname, bbox_inches='tight')\n",
        "                \n",
        "                plt.cla() # Clear the current axes\n",
        "                plt.clf() # Clear the current figure\n",
        "                plt.close('all')   \n",
        "                plt.close(fig)\n",
        "                gc.collect()"
      ]
    },
    {
      "cell_type": "code",
      "execution_count": 43,
      "metadata": {
        "colab": {
          "base_uri": "https://localhost:8080/",
          "height": 359
        },
        "id": "IoqBe4kyMFag",
        "outputId": "0d796e43-7710-4d37-da78-be2008a33f89"
      },
      "outputs": [
        {
          "data": {
            "text/html": [
              "<div>\n",
              "<style scoped>\n",
              "    .dataframe tbody tr th:only-of-type {\n",
              "        vertical-align: middle;\n",
              "    }\n",
              "\n",
              "    .dataframe tbody tr th {\n",
              "        vertical-align: top;\n",
              "    }\n",
              "\n",
              "    .dataframe thead th {\n",
              "        text-align: right;\n",
              "    }\n",
              "</style>\n",
              "<table border=\"1\" class=\"dataframe\">\n",
              "  <thead>\n",
              "    <tr style=\"text-align: right;\">\n",
              "      <th></th>\n",
              "      <th>ROI(0)</th>\n",
              "      <th>ROI(1)</th>\n",
              "      <th>EKG(0)</th>\n",
              "      <th>EKG(1)</th>\n",
              "      <th>PPG(0)</th>\n",
              "      <th>PPG(1)</th>\n",
              "    </tr>\n",
              "  </thead>\n",
              "  <tbody>\n",
              "    <tr>\n",
              "      <th>session(trial) #1</th>\n",
              "      <td>u=0.6, s=2078.31</td>\n",
              "      <td>u=(-0.68), s=2182.2</td>\n",
              "      <td>u=0.0, s=0.51</td>\n",
              "      <td>u=-0.0, s=0.53</td>\n",
              "      <td>u=0.05, s=0.49</td>\n",
              "      <td>u=(-0.06), s=0.48</td>\n",
              "    </tr>\n",
              "    <tr>\n",
              "      <th>session(trial) #2</th>\n",
              "      <td>u=0.47, s=2645.64</td>\n",
              "      <td>u=(-0.45), s=2355.34</td>\n",
              "      <td>u=0.0, s=0.53</td>\n",
              "      <td>u=-0.0, s=0.55</td>\n",
              "      <td>u=(-0.03), s=0.49</td>\n",
              "      <td>u=0.03, s=0.53</td>\n",
              "    </tr>\n",
              "    <tr>\n",
              "      <th>session(trial) #3</th>\n",
              "      <td>u=0.31, s=2792.84</td>\n",
              "      <td>u=(-0.36), s=2414.69</td>\n",
              "      <td>u=(-0.01), s=0.54</td>\n",
              "      <td>u=0.01, s=0.56</td>\n",
              "      <td>u=0.03, s=0.47</td>\n",
              "      <td>u=(-0.03), s=0.52</td>\n",
              "    </tr>\n",
              "    <tr>\n",
              "      <th>session(trial) #4</th>\n",
              "      <td>u=(-0.38), s=2763.24</td>\n",
              "      <td>u=0.4, s=2728.02</td>\n",
              "      <td>u=(-0.02), s=0.51</td>\n",
              "      <td>u=0.02, s=0.59</td>\n",
              "      <td>u=0.05, s=0.41</td>\n",
              "      <td>u=(-0.05), s=0.4</td>\n",
              "    </tr>\n",
              "    <tr>\n",
              "      <th>session(trial) #5</th>\n",
              "      <td>u=0.62, s=2506.15</td>\n",
              "      <td>u=(-0.69), s=2980.8</td>\n",
              "      <td>u=0.0, s=0.56</td>\n",
              "      <td>u=0.0, s=0.58</td>\n",
              "      <td>u=0.02, s=0.42</td>\n",
              "      <td>u=(-0.02), s=0.42</td>\n",
              "    </tr>\n",
              "    <tr>\n",
              "      <th>session(trial) #6</th>\n",
              "      <td>u=1.91, s=2635.24</td>\n",
              "      <td>u=(-1.76), s=2836.31</td>\n",
              "      <td>u=(-0.02), s=0.57</td>\n",
              "      <td>u=0.02, s=0.58</td>\n",
              "      <td>u=0.02, s=0.29</td>\n",
              "      <td>u=(-0.02), s=0.32</td>\n",
              "    </tr>\n",
              "    <tr>\n",
              "      <th>session(trial) #7</th>\n",
              "      <td>u=(-0.5), s=2837.13</td>\n",
              "      <td>u=0.49, s=2884.86</td>\n",
              "      <td>u=-0.0, s=0.58</td>\n",
              "      <td>u=0.0, s=0.58</td>\n",
              "      <td>u=0.01, s=0.31</td>\n",
              "      <td>u=(-0.01), s=0.33</td>\n",
              "    </tr>\n",
              "    <tr>\n",
              "      <th>session(trial) #8</th>\n",
              "      <td>u=0.09, s=2797.76</td>\n",
              "      <td>u=(-0.05), s=2825.97</td>\n",
              "      <td>u=0.03, s=0.62</td>\n",
              "      <td>u=(-0.03), s=0.58</td>\n",
              "      <td>u=(-0.03), s=0.27</td>\n",
              "      <td>u=0.04, s=0.27</td>\n",
              "    </tr>\n",
              "    <tr>\n",
              "      <th>session(trial) #9</th>\n",
              "      <td>u=(-0.32), s=2980.48</td>\n",
              "      <td>u=0.34, s=2989.46</td>\n",
              "      <td>u=0.0, s=0.59</td>\n",
              "      <td>u=-0.0, s=0.58</td>\n",
              "      <td>u=0.07, s=0.32</td>\n",
              "      <td>u=(-0.08), s=0.28</td>\n",
              "    </tr>\n",
              "    <tr>\n",
              "      <th>session(trial) #10</th>\n",
              "      <td>u=(-0.03), s=2708.16</td>\n",
              "      <td>u=(-0.03), s=2696.41</td>\n",
              "      <td>u=(-0.01), s=0.55</td>\n",
              "      <td>u=0.01, s=0.58</td>\n",
              "      <td>u=0.09, s=0.3</td>\n",
              "      <td>u=(-0.1), s=0.29</td>\n",
              "    </tr>\n",
              "  </tbody>\n",
              "</table>\n",
              "</div>"
            ],
            "text/plain": [
              "                                  ROI(0)  ...             PPG(1)\n",
              "session(trial) #1       u=0.6, s=2078.31  ...  u=(-0.06), s=0.48\n",
              "session(trial) #2      u=0.47, s=2645.64  ...     u=0.03, s=0.53\n",
              "session(trial) #3      u=0.31, s=2792.84  ...  u=(-0.03), s=0.52\n",
              "session(trial) #4   u=(-0.38), s=2763.24  ...   u=(-0.05), s=0.4\n",
              "session(trial) #5      u=0.62, s=2506.15  ...  u=(-0.02), s=0.42\n",
              "session(trial) #6      u=1.91, s=2635.24  ...  u=(-0.02), s=0.32\n",
              "session(trial) #7    u=(-0.5), s=2837.13  ...  u=(-0.01), s=0.33\n",
              "session(trial) #8      u=0.09, s=2797.76  ...     u=0.04, s=0.27\n",
              "session(trial) #9   u=(-0.32), s=2980.48  ...  u=(-0.08), s=0.28\n",
              "session(trial) #10  u=(-0.03), s=2708.16  ...   u=(-0.1), s=0.29\n",
              "\n",
              "[10 rows x 6 columns]"
            ]
          },
          "execution_count": 43,
          "metadata": {
            "tags": []
          },
          "output_type": "execute_result"
        }
      ],
      "source": [
        "# mean variance table\n",
        "col = [f'Column #{i+1}' for i in range(10)] + ['Labels']\n",
        "col_m = ['ROI(0)', 'ROI(1)','EKG(0)', 'EKG(1)','PPG(0)', 'PPG(1)']\n",
        "col = ['Value', 'Labels']\n",
        "\n",
        "df_mean = pd.DataFrame(columns=col_m)\n",
        "\n",
        "def check_neg(num):\n",
        "    if num < 0:\n",
        "        return f'({num})'\n",
        "    return num\n",
        "\n",
        "for i in range(10):\n",
        "    temp = [[]]\n",
        "    for j in range(3):\n",
        "        temp_df = pd.DataFrame(np.column_stack([newX[i][:,:,j].mean(axis=1), newY[i]]), columns=col).groupby('Labels')\n",
        "        mu = round(temp_df.mean(),2)\n",
        "        sig = round(temp_df.var(),2)\n",
        "        temp[0].append(f'u={check_neg(mu.iloc[0][0])}, s={check_neg(sig.iloc[0][0])}')\n",
        "        temp[0].append(f'u={check_neg(mu.iloc[1][0])}, s={check_neg(sig.iloc[1][0])}')\n",
        "    df_mean = df_mean.append(pd.DataFrame(np.array(temp), columns=col_m, index=[f'session(trial) #{i+1}']))\n",
        "\n",
        "df_mean"
      ]
    },
    {
      "cell_type": "code",
      "execution_count": 44,
      "metadata": {
        "id": "dhrQPNpvxn0N"
      },
      "outputs": [],
      "source": [
        "from scipy import stats"
      ]
    },
    {
      "cell_type": "code",
      "execution_count": 59,
      "metadata": {
        "id": "gaQ6A6E4vQGT"
      },
      "outputs": [],
      "source": [
        "# 1-sample t-test, two-sided (u(1) > u(0))\n",
        "ttest1 = []\n",
        "\n",
        "for j, sess in enumerate(match1): #match1 => ROI dcorr p-value\n",
        "    ttest1.append([])\n",
        "    for i in range(3):\n",
        "        \n",
        "        xbar = newX[sess][newY[sess] == 0][:,:,i]\n",
        "        xbar = xbar.flatten().mean()\n",
        "        y = stats.ttest_1samp(newX[sess][newY[sess] == 1][:,:,i].flatten(), xbar)[1] #p-value\n",
        "        ttest1[j].append(y)        "
      ]
    },
    {
      "cell_type": "code",
      "execution_count": 77,
      "metadata": {
        "colab": {
          "base_uri": "https://localhost:8080/",
          "height": 142
        },
        "id": "Pmvhs92JWHK-",
        "outputId": "ac10401e-cc61-4c1c-87b7-0ea49bbe468c"
      },
      "outputs": [
        {
          "data": {
            "text/html": [
              "<div>\n",
              "<style scoped>\n",
              "    .dataframe tbody tr th:only-of-type {\n",
              "        vertical-align: middle;\n",
              "    }\n",
              "\n",
              "    .dataframe tbody tr th {\n",
              "        vertical-align: top;\n",
              "    }\n",
              "\n",
              "    .dataframe thead th {\n",
              "        text-align: right;\n",
              "    }\n",
              "</style>\n",
              "<table border=\"1\" class=\"dataframe\">\n",
              "  <thead>\n",
              "    <tr style=\"text-align: right;\">\n",
              "      <th></th>\n",
              "      <th>P-value(ROI)</th>\n",
              "    </tr>\n",
              "  </thead>\n",
              "  <tbody>\n",
              "    <tr>\n",
              "      <th>Session #2</th>\n",
              "      <td>1.353356e-03</td>\n",
              "    </tr>\n",
              "    <tr>\n",
              "      <th>Session #4</th>\n",
              "      <td>2.826489e-08</td>\n",
              "    </tr>\n",
              "    <tr>\n",
              "      <th>Session #5</th>\n",
              "      <td>3.987610e-62</td>\n",
              "    </tr>\n",
              "  </tbody>\n",
              "</table>\n",
              "</div>"
            ],
            "text/plain": [
              "            P-value(ROI)\n",
              "Session #2  1.353356e-03\n",
              "Session #4  2.826489e-08\n",
              "Session #5  3.987610e-62"
            ]
          },
          "execution_count": 77,
          "metadata": {
            "tags": []
          },
          "output_type": "execute_result"
        }
      ],
      "source": [
        "df_1sample = pd.DataFrame(np.array(ttest1)[:,0], columns=['P-value(ROI)'])\n",
        "df_1sample.index = [f'Session #{i}' for i in match1]\n",
        "df_1sample"
      ]
    },
    {
      "cell_type": "code",
      "execution_count": 68,
      "metadata": {
        "id": "qB5RzZ9I77xO"
      },
      "outputs": [],
      "source": [
        "# 2-sample t-test, one-sided (u(1) > u(0))\n",
        "ttest2 = []\n",
        "\n",
        "for j, sess in enumerate(match1): #match1 => ROI dcorr p-value\n",
        "    ttest2.append([])\n",
        "    for i in range(3):\n",
        "        \n",
        "        x_base = newX[sess][newY[sess] == 0][:,:,i].flatten()\n",
        "        x_stim = newX[sess][newY[sess] == 1][:,:,i].flatten()\n",
        "        y = stats.ttest_ind(x_base, x_stim, equal_var=False)[1] #2 sample unpaired 2 sided\n",
        "        ttest2[j].append(y/2) # making 1-sided"
      ]
    },
    {
      "cell_type": "code",
      "execution_count": 69,
      "metadata": {
        "colab": {
          "base_uri": "https://localhost:8080/",
          "height": 142
        },
        "id": "3BhebxmcFNWp",
        "outputId": "81d9a6fb-2079-4c76-99f8-1d380d5bbccb"
      },
      "outputs": [
        {
          "data": {
            "text/html": [
              "<div>\n",
              "<style scoped>\n",
              "    .dataframe tbody tr th:only-of-type {\n",
              "        vertical-align: middle;\n",
              "    }\n",
              "\n",
              "    .dataframe tbody tr th {\n",
              "        vertical-align: top;\n",
              "    }\n",
              "\n",
              "    .dataframe thead th {\n",
              "        text-align: right;\n",
              "    }\n",
              "</style>\n",
              "<table border=\"1\" class=\"dataframe\">\n",
              "  <thead>\n",
              "    <tr style=\"text-align: right;\">\n",
              "      <th></th>\n",
              "      <th>P-value(ROI)</th>\n",
              "    </tr>\n",
              "  </thead>\n",
              "  <tbody>\n",
              "    <tr>\n",
              "      <th>Session #2</th>\n",
              "      <td>1.393563e-02</td>\n",
              "    </tr>\n",
              "    <tr>\n",
              "      <th>Session #4</th>\n",
              "      <td>1.442548e-05</td>\n",
              "    </tr>\n",
              "    <tr>\n",
              "      <th>Session #5</th>\n",
              "      <td>2.684150e-32</td>\n",
              "    </tr>\n",
              "  </tbody>\n",
              "</table>\n",
              "</div>"
            ],
            "text/plain": [
              "            P-value(ROI)\n",
              "Session #2  1.393563e-02\n",
              "Session #4  1.442548e-05\n",
              "Session #5  2.684150e-32"
            ]
          },
          "execution_count": 69,
          "metadata": {
            "tags": []
          },
          "output_type": "execute_result"
        }
      ],
      "source": [
        "# ttest2\n",
        "df_2sample = pd.DataFrame(np.array(ttest2)[:,0], columns=['P-value(ROI)'])\n",
        "df_2sample.index = [f'Session #{i}' for i in match1]\n",
        "df_2sample"
      ]
    },
    {
      "cell_type": "code",
      "execution_count": 75,
      "metadata": {
        "colab": {
          "base_uri": "https://localhost:8080/",
          "height": 142
        },
        "id": "vYYBgdw1ElUZ",
        "outputId": "0600325d-4f4c-4c2d-ae7e-cd707a56ccfe"
      },
      "outputs": [
        {
          "data": {
            "text/html": [
              "<div>\n",
              "<style scoped>\n",
              "    .dataframe tbody tr th:only-of-type {\n",
              "        vertical-align: middle;\n",
              "    }\n",
              "\n",
              "    .dataframe tbody tr th {\n",
              "        vertical-align: top;\n",
              "    }\n",
              "\n",
              "    .dataframe thead th {\n",
              "        text-align: right;\n",
              "    }\n",
              "</style>\n",
              "<table border=\"1\" class=\"dataframe\">\n",
              "  <thead>\n",
              "    <tr style=\"text-align: right;\">\n",
              "      <th></th>\n",
              "      <th>P-value(ROI; 1-sample)</th>\n",
              "      <th>P-value(ROI; 2-sample)</th>\n",
              "    </tr>\n",
              "  </thead>\n",
              "  <tbody>\n",
              "    <tr>\n",
              "      <th>Session #2</th>\n",
              "      <td>1.353356e-03</td>\n",
              "      <td>1.393563e-02</td>\n",
              "    </tr>\n",
              "    <tr>\n",
              "      <th>Session #4</th>\n",
              "      <td>2.826489e-08</td>\n",
              "      <td>1.442548e-05</td>\n",
              "    </tr>\n",
              "    <tr>\n",
              "      <th>Session #5</th>\n",
              "      <td>3.987610e-62</td>\n",
              "      <td>2.684150e-32</td>\n",
              "    </tr>\n",
              "  </tbody>\n",
              "</table>\n",
              "</div>"
            ],
            "text/plain": [
              "            P-value(ROI; 1-sample)  P-value(ROI; 2-sample)\n",
              "Session #2            1.353356e-03            1.393563e-02\n",
              "Session #4            2.826489e-08            1.442548e-05\n",
              "Session #5            3.987610e-62            2.684150e-32"
            ]
          },
          "execution_count": 75,
          "metadata": {
            "tags": []
          },
          "output_type": "execute_result"
        }
      ],
      "source": [
        "df_sample = np.hstack([df_1sample, df_2sample])\n",
        "df_sample = pd.DataFrame(df_sample, columns=['P-value(ROI; 1-sample)', 'P-value(ROI; 2-sample)'])\n",
        "df_sample.index = [f'Session #{i}' for i in match1]\n",
        "df_sample"
      ]
    },
    {
      "cell_type": "code",
      "execution_count": 51,
      "metadata": {
        "id": "2OxOwQLpNrcb"
      },
      "outputs": [],
      "source": [
        "#violin plots and strip plots\n",
        "col = ['Value', 'Labels']\n",
        "\n",
        "if False:\n",
        "    for k,_ in enumerate(['Violin', 'Strip']):\n",
        "        for j, dat in enumerate(['ROI', 'EKG', 'PPG']):\n",
        "            f = plt.figure(figsize=(6*5,6*2))\n",
        "            gs = f.add_gridspec(2,5)\n",
        "\n",
        "            for i in range(10):\n",
        "                rs=i//5\n",
        "                cs=i%5\n",
        "                ax = f.add_subplot(gs[rs,cs])\n",
        "                # f.suptitle(f'{dat}')\n",
        "                ax.set_title(f'Session{i+1}({dat})')      \n",
        "                tempx = pd.DataFrame(np.column_stack([newX[i][:,:,j].flatten(), newY[i].repeat(10)]), columns=col)  \n",
        "                # tempx = pd.DataFrame(np.column_stack([newX[i][:,:,j].mean(axis=1), newY[i]]), columns=col)\n",
        "                if k == 0:\n",
        "                    sns.violinplot(x='Labels', data=tempx, y='Value', orient='v', palette=['purple','yellow'])\n",
        "                else:\n",
        "                    sns.stripplot(x='Labels', y='Value', data=tempx, hue='Labels', palette=['purple','yellow'])                   \n",
        "                    \n",
        "                ax.legend([])\n",
        "\n",
        "            if k == 0:\n",
        "                plt.savefig(dirpathimg + f'violin/violinplot_{dat}.png', bbox_inches='tight')\n",
        "            else:\n",
        "                plt.savefig(dirpathimg + f'strip/stripplot_{dat}.png', bbox_inches='tight')\n",
        "            \n",
        "            plt.cla() # Clear the current axes\n",
        "            plt.clf() # Clear the current figure\n",
        "            plt.close('all')   \n",
        "            plt.close(fig)\n",
        "            gc.collect()    "
      ]
    },
    {
      "cell_type": "markdown",
      "metadata": {
        "id": "0UAlcMHb_fmL"
      },
      "source": [
        "## Pairwise distance heatmap plotting"
      ]
    },
    {
      "cell_type": "code",
      "execution_count": 52,
      "metadata": {
        "id": "UNMccF7aRHCY"
      },
      "outputs": [],
      "source": [
        "from sklearn.metrics import pairwise_distances"
      ]
    },
    {
      "cell_type": "code",
      "execution_count": 53,
      "metadata": {
        "id": "7D_Lg6vKT4jF"
      },
      "outputs": [],
      "source": [
        "metric = 'euclidean'\n",
        "x = np.array(ds_by_session_bin[1])[:,:,1]"
      ]
    },
    {
      "cell_type": "code",
      "execution_count": 54,
      "metadata": {
        "colab": {
          "base_uri": "https://localhost:8080/"
        },
        "id": "VLCwvMAhW0HK",
        "outputId": "ffee7fb5-b891-4d0e-dfd7-525fe60b8837"
      },
      "outputs": [
        {
          "data": {
            "text/plain": [
              "(array([    0, 11420, 22840, 34260, 45680, 57100, 68520]), 68523)"
            ]
          },
          "execution_count": 54,
          "metadata": {
            "tags": []
          },
          "output_type": "execute_result"
        }
      ],
      "source": [
        "idx_lst = np.cumsum([0] + [round(x.shape[0]/6) for i in range(6)])\n",
        "idx_lst, x.shape[0]"
      ]
    },
    {
      "cell_type": "code",
      "execution_count": 55,
      "metadata": {
        "id": "hlRz3ojjSY4c"
      },
      "outputs": [],
      "source": [
        "# pairwise distance heatmap\n",
        "if False:\n",
        "    n = idx_lst.shape[0]\n",
        "    sess_num = 1\n",
        "\n",
        "    dtype = ['ROI', 'EKG', 'PPG']\n",
        "\n",
        "    # plt.style.use('ggplot')\n",
        "    sns.set(rc={'axes.grid':'False'});\n",
        "\n",
        "    for iii, dt in enumerate(tqdm(dtype)):\n",
        "\n",
        "        x = np.array(ds_by_session_bin[sess_num])[:,:,iii]\n",
        "\n",
        "        for ii, i in enumerate(tqdm(range(n-1), leave=False)):\n",
        "\n",
        "            # if ii < 4:\n",
        "            fig, (ax1,ax2) = plt.subplots(1,2, figsize=(20,10))\n",
        "            i_0 = idx_lst[i]\n",
        "            i_1 = idx_lst[i+1]\n",
        "            # fig.add_subplot(5,2,ii+1)\n",
        "            distx = pairwise_distances(x[i_0:i_1], metric=metric)\n",
        "            mlp = ax1.imshow(distx)\n",
        "            fig.colorbar(mlp, ax=ax1)\n",
        "            del distx\n",
        "\n",
        "            y = np.array(st_lst[sess_num])[i_0:i_1]\n",
        "            ax2.plot(np.arange(0,y.shape[0]), y)\n",
        "            filename = dirpathimg + f'heatmap/heatmap_{dt}_{ii}'\n",
        "            plt.savefig(filename, bbox_inches='tight')\n",
        "            \n",
        "            plt.cla() # Clear the current axes\n",
        "            plt.clf() # Clear the current figure\n",
        "            plt.close('all')   \n",
        "            plt.close(fig)\n",
        "            gc.collect()"
      ]
    }
  ],
  "metadata": {
    "colab": {
      "authorship_tag": "ABX9TyPam1LXzL7rcn+ehcPPVslj",
      "collapsed_sections": [],
      "include_colab_link": true,
      "name": "MindX_dataloader.ipynb",
      "provenance": [],
      "toc_visible": true
    },
    "kernelspec": {
      "display_name": "Python 3",
      "name": "python3"
    },
    "widgets": {
      "application/vnd.jupyter.widget-state+json": {
        "01b2405992d2475f9c50cd92d9efc12b": {
          "model_module": "@jupyter-widgets/controls",
          "model_name": "HTMLModel",
          "state": {
            "_dom_classes": [],
            "_model_module": "@jupyter-widgets/controls",
            "_model_module_version": "1.5.0",
            "_model_name": "HTMLModel",
            "_view_count": null,
            "_view_module": "@jupyter-widgets/controls",
            "_view_module_version": "1.5.0",
            "_view_name": "HTMLView",
            "description": "",
            "description_tooltip": null,
            "layout": "IPY_MODEL_2efc9a25dcf94db2a78a82f5727d8b21",
            "placeholder": "​",
            "style": "IPY_MODEL_0cc4f7ba4aa247ad947ea960842ed31c",
            "value": " 3/3 [00:42&lt;00:00, 13.91s/it]"
          }
        },
        "0271645e291d473db511c9ac8fcec5e5": {
          "model_module": "@jupyter-widgets/base",
          "model_name": "LayoutModel",
          "state": {
            "_model_module": "@jupyter-widgets/base",
            "_model_module_version": "1.2.0",
            "_model_name": "LayoutModel",
            "_view_count": null,
            "_view_module": "@jupyter-widgets/base",
            "_view_module_version": "1.2.0",
            "_view_name": "LayoutView",
            "align_content": null,
            "align_items": null,
            "align_self": null,
            "border": null,
            "bottom": null,
            "display": null,
            "flex": null,
            "flex_flow": null,
            "grid_area": null,
            "grid_auto_columns": null,
            "grid_auto_flow": null,
            "grid_auto_rows": null,
            "grid_column": null,
            "grid_gap": null,
            "grid_row": null,
            "grid_template_areas": null,
            "grid_template_columns": null,
            "grid_template_rows": null,
            "height": null,
            "justify_content": null,
            "justify_items": null,
            "left": null,
            "margin": null,
            "max_height": null,
            "max_width": null,
            "min_height": null,
            "min_width": null,
            "object_fit": null,
            "object_position": null,
            "order": null,
            "overflow": null,
            "overflow_x": null,
            "overflow_y": null,
            "padding": null,
            "right": null,
            "top": null,
            "visibility": null,
            "width": null
          }
        },
        "02f1ea6ba1f84848bf37f0e41deeea1c": {
          "model_module": "@jupyter-widgets/controls",
          "model_name": "DescriptionStyleModel",
          "state": {
            "_model_module": "@jupyter-widgets/controls",
            "_model_module_version": "1.5.0",
            "_model_name": "DescriptionStyleModel",
            "_view_count": null,
            "_view_module": "@jupyter-widgets/base",
            "_view_module_version": "1.2.0",
            "_view_name": "StyleView",
            "description_width": ""
          }
        },
        "049b0555098a45c78637da7befa88a8a": {
          "model_module": "@jupyter-widgets/base",
          "model_name": "LayoutModel",
          "state": {
            "_model_module": "@jupyter-widgets/base",
            "_model_module_version": "1.2.0",
            "_model_name": "LayoutModel",
            "_view_count": null,
            "_view_module": "@jupyter-widgets/base",
            "_view_module_version": "1.2.0",
            "_view_name": "LayoutView",
            "align_content": null,
            "align_items": null,
            "align_self": null,
            "border": null,
            "bottom": null,
            "display": null,
            "flex": null,
            "flex_flow": null,
            "grid_area": null,
            "grid_auto_columns": null,
            "grid_auto_flow": null,
            "grid_auto_rows": null,
            "grid_column": null,
            "grid_gap": null,
            "grid_row": null,
            "grid_template_areas": null,
            "grid_template_columns": null,
            "grid_template_rows": null,
            "height": null,
            "justify_content": null,
            "justify_items": null,
            "left": null,
            "margin": null,
            "max_height": null,
            "max_width": null,
            "min_height": null,
            "min_width": null,
            "object_fit": null,
            "object_position": null,
            "order": null,
            "overflow": null,
            "overflow_x": null,
            "overflow_y": null,
            "padding": null,
            "right": null,
            "top": null,
            "visibility": null,
            "width": null
          }
        },
        "06f088f9ef574daa85053cc4009fbd4a": {
          "model_module": "@jupyter-widgets/controls",
          "model_name": "ProgressStyleModel",
          "state": {
            "_model_module": "@jupyter-widgets/controls",
            "_model_module_version": "1.5.0",
            "_model_name": "ProgressStyleModel",
            "_view_count": null,
            "_view_module": "@jupyter-widgets/base",
            "_view_module_version": "1.2.0",
            "_view_name": "StyleView",
            "bar_color": null,
            "description_width": "initial"
          }
        },
        "0707cc8e9b9d4fc8b43fdf79f8b7a718": {
          "model_module": "@jupyter-widgets/controls",
          "model_name": "ProgressStyleModel",
          "state": {
            "_model_module": "@jupyter-widgets/controls",
            "_model_module_version": "1.5.0",
            "_model_name": "ProgressStyleModel",
            "_view_count": null,
            "_view_module": "@jupyter-widgets/base",
            "_view_module_version": "1.2.0",
            "_view_name": "StyleView",
            "bar_color": null,
            "description_width": "initial"
          }
        },
        "08f0b2dd1c064838a2686fc0eef24618": {
          "model_module": "@jupyter-widgets/base",
          "model_name": "LayoutModel",
          "state": {
            "_model_module": "@jupyter-widgets/base",
            "_model_module_version": "1.2.0",
            "_model_name": "LayoutModel",
            "_view_count": null,
            "_view_module": "@jupyter-widgets/base",
            "_view_module_version": "1.2.0",
            "_view_name": "LayoutView",
            "align_content": null,
            "align_items": null,
            "align_self": null,
            "border": null,
            "bottom": null,
            "display": null,
            "flex": null,
            "flex_flow": null,
            "grid_area": null,
            "grid_auto_columns": null,
            "grid_auto_flow": null,
            "grid_auto_rows": null,
            "grid_column": null,
            "grid_gap": null,
            "grid_row": null,
            "grid_template_areas": null,
            "grid_template_columns": null,
            "grid_template_rows": null,
            "height": null,
            "justify_content": null,
            "justify_items": null,
            "left": null,
            "margin": null,
            "max_height": null,
            "max_width": null,
            "min_height": null,
            "min_width": null,
            "object_fit": null,
            "object_position": null,
            "order": null,
            "overflow": null,
            "overflow_x": null,
            "overflow_y": null,
            "padding": null,
            "right": null,
            "top": null,
            "visibility": null,
            "width": null
          }
        },
        "0cc4f7ba4aa247ad947ea960842ed31c": {
          "model_module": "@jupyter-widgets/controls",
          "model_name": "DescriptionStyleModel",
          "state": {
            "_model_module": "@jupyter-widgets/controls",
            "_model_module_version": "1.5.0",
            "_model_name": "DescriptionStyleModel",
            "_view_count": null,
            "_view_module": "@jupyter-widgets/base",
            "_view_module_version": "1.2.0",
            "_view_name": "StyleView",
            "description_width": ""
          }
        },
        "0d248e64533044e08860985fe100040c": {
          "model_module": "@jupyter-widgets/controls",
          "model_name": "HTMLModel",
          "state": {
            "_dom_classes": [],
            "_model_module": "@jupyter-widgets/controls",
            "_model_module_version": "1.5.0",
            "_model_name": "HTMLModel",
            "_view_count": null,
            "_view_module": "@jupyter-widgets/controls",
            "_view_module_version": "1.5.0",
            "_view_name": "HTMLView",
            "description": "",
            "description_tooltip": null,
            "layout": "IPY_MODEL_9954dfbcb2464fd4bcc87aa759eaa017",
            "placeholder": "​",
            "style": "IPY_MODEL_d57d417ed82a468780142398b958bb17",
            "value": " 3/3 [00:36&lt;00:00, 12.02s/it]"
          }
        },
        "1a4e409b97c94665a452dcb2e86634d7": {
          "model_module": "@jupyter-widgets/controls",
          "model_name": "HBoxModel",
          "state": {
            "_dom_classes": [],
            "_model_module": "@jupyter-widgets/controls",
            "_model_module_version": "1.5.0",
            "_model_name": "HBoxModel",
            "_view_count": null,
            "_view_module": "@jupyter-widgets/controls",
            "_view_module_version": "1.5.0",
            "_view_name": "HBoxView",
            "box_style": "",
            "children": [
              "IPY_MODEL_36dae3a10c89496f9f86bf8ddb372d5a",
              "IPY_MODEL_cd7e32d85902483babda33efb43d91fe"
            ],
            "layout": "IPY_MODEL_482707f749e143f59769d4306866be02"
          }
        },
        "1fd08be1d7e04b509169ceb32b201bdf": {
          "model_module": "@jupyter-widgets/base",
          "model_name": "LayoutModel",
          "state": {
            "_model_module": "@jupyter-widgets/base",
            "_model_module_version": "1.2.0",
            "_model_name": "LayoutModel",
            "_view_count": null,
            "_view_module": "@jupyter-widgets/base",
            "_view_module_version": "1.2.0",
            "_view_name": "LayoutView",
            "align_content": null,
            "align_items": null,
            "align_self": null,
            "border": null,
            "bottom": null,
            "display": null,
            "flex": null,
            "flex_flow": null,
            "grid_area": null,
            "grid_auto_columns": null,
            "grid_auto_flow": null,
            "grid_auto_rows": null,
            "grid_column": null,
            "grid_gap": null,
            "grid_row": null,
            "grid_template_areas": null,
            "grid_template_columns": null,
            "grid_template_rows": null,
            "height": null,
            "justify_content": null,
            "justify_items": null,
            "left": null,
            "margin": null,
            "max_height": null,
            "max_width": null,
            "min_height": null,
            "min_width": null,
            "object_fit": null,
            "object_position": null,
            "order": null,
            "overflow": null,
            "overflow_x": null,
            "overflow_y": null,
            "padding": null,
            "right": null,
            "top": null,
            "visibility": null,
            "width": null
          }
        },
        "212586f65b9947c49c350b12bcffae3f": {
          "model_module": "@jupyter-widgets/controls",
          "model_name": "DescriptionStyleModel",
          "state": {
            "_model_module": "@jupyter-widgets/controls",
            "_model_module_version": "1.5.0",
            "_model_name": "DescriptionStyleModel",
            "_view_count": null,
            "_view_module": "@jupyter-widgets/base",
            "_view_module_version": "1.2.0",
            "_view_name": "StyleView",
            "description_width": ""
          }
        },
        "227dc3880deb4087a41cb98c99d87b5c": {
          "model_module": "@jupyter-widgets/base",
          "model_name": "LayoutModel",
          "state": {
            "_model_module": "@jupyter-widgets/base",
            "_model_module_version": "1.2.0",
            "_model_name": "LayoutModel",
            "_view_count": null,
            "_view_module": "@jupyter-widgets/base",
            "_view_module_version": "1.2.0",
            "_view_name": "LayoutView",
            "align_content": null,
            "align_items": null,
            "align_self": null,
            "border": null,
            "bottom": null,
            "display": null,
            "flex": null,
            "flex_flow": null,
            "grid_area": null,
            "grid_auto_columns": null,
            "grid_auto_flow": null,
            "grid_auto_rows": null,
            "grid_column": null,
            "grid_gap": null,
            "grid_row": null,
            "grid_template_areas": null,
            "grid_template_columns": null,
            "grid_template_rows": null,
            "height": null,
            "justify_content": null,
            "justify_items": null,
            "left": null,
            "margin": null,
            "max_height": null,
            "max_width": null,
            "min_height": null,
            "min_width": null,
            "object_fit": null,
            "object_position": null,
            "order": null,
            "overflow": null,
            "overflow_x": null,
            "overflow_y": null,
            "padding": null,
            "right": null,
            "top": null,
            "visibility": null,
            "width": null
          }
        },
        "23d29a30463440958185602c1fbb913c": {
          "model_module": "@jupyter-widgets/base",
          "model_name": "LayoutModel",
          "state": {
            "_model_module": "@jupyter-widgets/base",
            "_model_module_version": "1.2.0",
            "_model_name": "LayoutModel",
            "_view_count": null,
            "_view_module": "@jupyter-widgets/base",
            "_view_module_version": "1.2.0",
            "_view_name": "LayoutView",
            "align_content": null,
            "align_items": null,
            "align_self": null,
            "border": null,
            "bottom": null,
            "display": null,
            "flex": null,
            "flex_flow": null,
            "grid_area": null,
            "grid_auto_columns": null,
            "grid_auto_flow": null,
            "grid_auto_rows": null,
            "grid_column": null,
            "grid_gap": null,
            "grid_row": null,
            "grid_template_areas": null,
            "grid_template_columns": null,
            "grid_template_rows": null,
            "height": null,
            "justify_content": null,
            "justify_items": null,
            "left": null,
            "margin": null,
            "max_height": null,
            "max_width": null,
            "min_height": null,
            "min_width": null,
            "object_fit": null,
            "object_position": null,
            "order": null,
            "overflow": null,
            "overflow_x": null,
            "overflow_y": null,
            "padding": null,
            "right": null,
            "top": null,
            "visibility": null,
            "width": null
          }
        },
        "24f3ff9fdd8e4463bba61f61b87cbc3b": {
          "model_module": "@jupyter-widgets/controls",
          "model_name": "DescriptionStyleModel",
          "state": {
            "_model_module": "@jupyter-widgets/controls",
            "_model_module_version": "1.5.0",
            "_model_name": "DescriptionStyleModel",
            "_view_count": null,
            "_view_module": "@jupyter-widgets/base",
            "_view_module_version": "1.2.0",
            "_view_name": "StyleView",
            "description_width": ""
          }
        },
        "2602e317fe7d495fbb9ad068c8afae32": {
          "model_module": "@jupyter-widgets/controls",
          "model_name": "FloatProgressModel",
          "state": {
            "_dom_classes": [],
            "_model_module": "@jupyter-widgets/controls",
            "_model_module_version": "1.5.0",
            "_model_name": "FloatProgressModel",
            "_view_count": null,
            "_view_module": "@jupyter-widgets/controls",
            "_view_module_version": "1.5.0",
            "_view_name": "ProgressView",
            "bar_style": "",
            "description": "100%",
            "description_tooltip": null,
            "layout": "IPY_MODEL_8782d482b9cf4e9da5ee2b63ffd81f7a",
            "max": 3,
            "min": 0,
            "orientation": "horizontal",
            "style": "IPY_MODEL_cfb43e8e96164403adb6e0ca9b2bad53",
            "value": 3
          }
        },
        "273af5b7c7ce4274a87eece5494c5cc1": {
          "model_module": "@jupyter-widgets/base",
          "model_name": "LayoutModel",
          "state": {
            "_model_module": "@jupyter-widgets/base",
            "_model_module_version": "1.2.0",
            "_model_name": "LayoutModel",
            "_view_count": null,
            "_view_module": "@jupyter-widgets/base",
            "_view_module_version": "1.2.0",
            "_view_name": "LayoutView",
            "align_content": null,
            "align_items": null,
            "align_self": null,
            "border": null,
            "bottom": null,
            "display": null,
            "flex": null,
            "flex_flow": null,
            "grid_area": null,
            "grid_auto_columns": null,
            "grid_auto_flow": null,
            "grid_auto_rows": null,
            "grid_column": null,
            "grid_gap": null,
            "grid_row": null,
            "grid_template_areas": null,
            "grid_template_columns": null,
            "grid_template_rows": null,
            "height": null,
            "justify_content": null,
            "justify_items": null,
            "left": null,
            "margin": null,
            "max_height": null,
            "max_width": null,
            "min_height": null,
            "min_width": null,
            "object_fit": null,
            "object_position": null,
            "order": null,
            "overflow": null,
            "overflow_x": null,
            "overflow_y": null,
            "padding": null,
            "right": null,
            "top": null,
            "visibility": null,
            "width": null
          }
        },
        "28ef9b3526ff415f9c4507ee18c3ced5": {
          "model_module": "@jupyter-widgets/base",
          "model_name": "LayoutModel",
          "state": {
            "_model_module": "@jupyter-widgets/base",
            "_model_module_version": "1.2.0",
            "_model_name": "LayoutModel",
            "_view_count": null,
            "_view_module": "@jupyter-widgets/base",
            "_view_module_version": "1.2.0",
            "_view_name": "LayoutView",
            "align_content": null,
            "align_items": null,
            "align_self": null,
            "border": null,
            "bottom": null,
            "display": null,
            "flex": null,
            "flex_flow": null,
            "grid_area": null,
            "grid_auto_columns": null,
            "grid_auto_flow": null,
            "grid_auto_rows": null,
            "grid_column": null,
            "grid_gap": null,
            "grid_row": null,
            "grid_template_areas": null,
            "grid_template_columns": null,
            "grid_template_rows": null,
            "height": null,
            "justify_content": null,
            "justify_items": null,
            "left": null,
            "margin": null,
            "max_height": null,
            "max_width": null,
            "min_height": null,
            "min_width": null,
            "object_fit": null,
            "object_position": null,
            "order": null,
            "overflow": null,
            "overflow_x": null,
            "overflow_y": null,
            "padding": null,
            "right": null,
            "top": null,
            "visibility": null,
            "width": null
          }
        },
        "2926189b07104676b64fbd2836658ab0": {
          "model_module": "@jupyter-widgets/base",
          "model_name": "LayoutModel",
          "state": {
            "_model_module": "@jupyter-widgets/base",
            "_model_module_version": "1.2.0",
            "_model_name": "LayoutModel",
            "_view_count": null,
            "_view_module": "@jupyter-widgets/base",
            "_view_module_version": "1.2.0",
            "_view_name": "LayoutView",
            "align_content": null,
            "align_items": null,
            "align_self": null,
            "border": null,
            "bottom": null,
            "display": null,
            "flex": null,
            "flex_flow": null,
            "grid_area": null,
            "grid_auto_columns": null,
            "grid_auto_flow": null,
            "grid_auto_rows": null,
            "grid_column": null,
            "grid_gap": null,
            "grid_row": null,
            "grid_template_areas": null,
            "grid_template_columns": null,
            "grid_template_rows": null,
            "height": null,
            "justify_content": null,
            "justify_items": null,
            "left": null,
            "margin": null,
            "max_height": null,
            "max_width": null,
            "min_height": null,
            "min_width": null,
            "object_fit": null,
            "object_position": null,
            "order": null,
            "overflow": null,
            "overflow_x": null,
            "overflow_y": null,
            "padding": null,
            "right": null,
            "top": null,
            "visibility": null,
            "width": null
          }
        },
        "29a4e8153d6e4d0aa3cbeac1962ec704": {
          "model_module": "@jupyter-widgets/controls",
          "model_name": "DescriptionStyleModel",
          "state": {
            "_model_module": "@jupyter-widgets/controls",
            "_model_module_version": "1.5.0",
            "_model_name": "DescriptionStyleModel",
            "_view_count": null,
            "_view_module": "@jupyter-widgets/base",
            "_view_module_version": "1.2.0",
            "_view_name": "StyleView",
            "description_width": ""
          }
        },
        "2cc57632dc03487a9891e48f0c362fbe": {
          "model_module": "@jupyter-widgets/controls",
          "model_name": "ProgressStyleModel",
          "state": {
            "_model_module": "@jupyter-widgets/controls",
            "_model_module_version": "1.5.0",
            "_model_name": "ProgressStyleModel",
            "_view_count": null,
            "_view_module": "@jupyter-widgets/base",
            "_view_module_version": "1.2.0",
            "_view_name": "StyleView",
            "bar_color": null,
            "description_width": "initial"
          }
        },
        "2ee63d7679524fcd93677143d5c3ba8c": {
          "model_module": "@jupyter-widgets/controls",
          "model_name": "HBoxModel",
          "state": {
            "_dom_classes": [],
            "_model_module": "@jupyter-widgets/controls",
            "_model_module_version": "1.5.0",
            "_model_name": "HBoxModel",
            "_view_count": null,
            "_view_module": "@jupyter-widgets/controls",
            "_view_module_version": "1.5.0",
            "_view_name": "HBoxView",
            "box_style": "",
            "children": [
              "IPY_MODEL_2602e317fe7d495fbb9ad068c8afae32",
              "IPY_MODEL_a829ed9c89e0494db89b38aa7caaee73"
            ],
            "layout": "IPY_MODEL_54f204d0538349318a49537c5ed67a53"
          }
        },
        "2efc9a25dcf94db2a78a82f5727d8b21": {
          "model_module": "@jupyter-widgets/base",
          "model_name": "LayoutModel",
          "state": {
            "_model_module": "@jupyter-widgets/base",
            "_model_module_version": "1.2.0",
            "_model_name": "LayoutModel",
            "_view_count": null,
            "_view_module": "@jupyter-widgets/base",
            "_view_module_version": "1.2.0",
            "_view_name": "LayoutView",
            "align_content": null,
            "align_items": null,
            "align_self": null,
            "border": null,
            "bottom": null,
            "display": null,
            "flex": null,
            "flex_flow": null,
            "grid_area": null,
            "grid_auto_columns": null,
            "grid_auto_flow": null,
            "grid_auto_rows": null,
            "grid_column": null,
            "grid_gap": null,
            "grid_row": null,
            "grid_template_areas": null,
            "grid_template_columns": null,
            "grid_template_rows": null,
            "height": null,
            "justify_content": null,
            "justify_items": null,
            "left": null,
            "margin": null,
            "max_height": null,
            "max_width": null,
            "min_height": null,
            "min_width": null,
            "object_fit": null,
            "object_position": null,
            "order": null,
            "overflow": null,
            "overflow_x": null,
            "overflow_y": null,
            "padding": null,
            "right": null,
            "top": null,
            "visibility": null,
            "width": null
          }
        },
        "2fa723765b3c49ca956da9cbdf735465": {
          "model_module": "@jupyter-widgets/controls",
          "model_name": "DescriptionStyleModel",
          "state": {
            "_model_module": "@jupyter-widgets/controls",
            "_model_module_version": "1.5.0",
            "_model_name": "DescriptionStyleModel",
            "_view_count": null,
            "_view_module": "@jupyter-widgets/base",
            "_view_module_version": "1.2.0",
            "_view_name": "StyleView",
            "description_width": ""
          }
        },
        "30cb94c710384fa9ae5dd10a39d16ecc": {
          "model_module": "@jupyter-widgets/controls",
          "model_name": "FloatProgressModel",
          "state": {
            "_dom_classes": [],
            "_model_module": "@jupyter-widgets/controls",
            "_model_module_version": "1.5.0",
            "_model_name": "FloatProgressModel",
            "_view_count": null,
            "_view_module": "@jupyter-widgets/controls",
            "_view_module_version": "1.5.0",
            "_view_name": "ProgressView",
            "bar_style": "success",
            "description": "100%",
            "description_tooltip": null,
            "layout": "IPY_MODEL_7975784027964a7e8fbb2097eb87914c",
            "max": 10,
            "min": 0,
            "orientation": "horizontal",
            "style": "IPY_MODEL_602c3e0629ce43d6b1ea1b00479e0364",
            "value": 10
          }
        },
        "36dae3a10c89496f9f86bf8ddb372d5a": {
          "model_module": "@jupyter-widgets/controls",
          "model_name": "FloatProgressModel",
          "state": {
            "_dom_classes": [],
            "_model_module": "@jupyter-widgets/controls",
            "_model_module_version": "1.5.0",
            "_model_name": "FloatProgressModel",
            "_view_count": null,
            "_view_module": "@jupyter-widgets/controls",
            "_view_module_version": "1.5.0",
            "_view_name": "ProgressView",
            "bar_style": "",
            "description": "100%",
            "description_tooltip": null,
            "layout": "IPY_MODEL_93667f7e7dec4182941fb00feb4eb66f",
            "max": 3,
            "min": 0,
            "orientation": "horizontal",
            "style": "IPY_MODEL_e3fec3a438744553859ff89932fe217b",
            "value": 3
          }
        },
        "3a74b173ee394dbe8a03a94743e1c7f1": {
          "model_module": "@jupyter-widgets/controls",
          "model_name": "FloatProgressModel",
          "state": {
            "_dom_classes": [],
            "_model_module": "@jupyter-widgets/controls",
            "_model_module_version": "1.5.0",
            "_model_name": "FloatProgressModel",
            "_view_count": null,
            "_view_module": "@jupyter-widgets/controls",
            "_view_module_version": "1.5.0",
            "_view_name": "ProgressView",
            "bar_style": "",
            "description": "100%",
            "description_tooltip": null,
            "layout": "IPY_MODEL_fb78070ae8f64f34bcebd54361b2b32d",
            "max": 3,
            "min": 0,
            "orientation": "horizontal",
            "style": "IPY_MODEL_978638fe2c224b6e99b32fda066365f7",
            "value": 3
          }
        },
        "3ad889b22a3d477cab420e859853b5af": {
          "model_module": "@jupyter-widgets/controls",
          "model_name": "HTMLModel",
          "state": {
            "_dom_classes": [],
            "_model_module": "@jupyter-widgets/controls",
            "_model_module_version": "1.5.0",
            "_model_name": "HTMLModel",
            "_view_count": null,
            "_view_module": "@jupyter-widgets/controls",
            "_view_module_version": "1.5.0",
            "_view_name": "HTMLView",
            "description": "",
            "description_tooltip": null,
            "layout": "IPY_MODEL_de92fc54fa994c93aa48e6e4f3cb9abf",
            "placeholder": "​",
            "style": "IPY_MODEL_54a260e227b64949a80b725326877b67",
            "value": " 10/10 [00:13&lt;00:00,  1.40s/it]"
          }
        },
        "3eac8cc0e95c458c8018f86ff8005789": {
          "model_module": "@jupyter-widgets/controls",
          "model_name": "FloatProgressModel",
          "state": {
            "_dom_classes": [],
            "_model_module": "@jupyter-widgets/controls",
            "_model_module_version": "1.5.0",
            "_model_name": "FloatProgressModel",
            "_view_count": null,
            "_view_module": "@jupyter-widgets/controls",
            "_view_module_version": "1.5.0",
            "_view_name": "ProgressView",
            "bar_style": "success",
            "description": "100%",
            "description_tooltip": null,
            "layout": "IPY_MODEL_7212053380964f999ba1d3c22a3399b4",
            "max": 10,
            "min": 0,
            "orientation": "horizontal",
            "style": "IPY_MODEL_0707cc8e9b9d4fc8b43fdf79f8b7a718",
            "value": 10
          }
        },
        "41874e89f8784aeeb0b57f404ff5371f": {
          "model_module": "@jupyter-widgets/controls",
          "model_name": "HTMLModel",
          "state": {
            "_dom_classes": [],
            "_model_module": "@jupyter-widgets/controls",
            "_model_module_version": "1.5.0",
            "_model_name": "HTMLModel",
            "_view_count": null,
            "_view_module": "@jupyter-widgets/controls",
            "_view_module_version": "1.5.0",
            "_view_name": "HTMLView",
            "description": "",
            "description_tooltip": null,
            "layout": "IPY_MODEL_b5c9f188fff34a3f982a182093bced06",
            "placeholder": "​",
            "style": "IPY_MODEL_66a703c14cc24fb69bada2bc1bc78771",
            "value": " 3/3 [00:40&lt;00:00, 13.38s/it]"
          }
        },
        "431c464983ed4453b323acd43439c795": {
          "model_module": "@jupyter-widgets/base",
          "model_name": "LayoutModel",
          "state": {
            "_model_module": "@jupyter-widgets/base",
            "_model_module_version": "1.2.0",
            "_model_name": "LayoutModel",
            "_view_count": null,
            "_view_module": "@jupyter-widgets/base",
            "_view_module_version": "1.2.0",
            "_view_name": "LayoutView",
            "align_content": null,
            "align_items": null,
            "align_self": null,
            "border": null,
            "bottom": null,
            "display": null,
            "flex": null,
            "flex_flow": null,
            "grid_area": null,
            "grid_auto_columns": null,
            "grid_auto_flow": null,
            "grid_auto_rows": null,
            "grid_column": null,
            "grid_gap": null,
            "grid_row": null,
            "grid_template_areas": null,
            "grid_template_columns": null,
            "grid_template_rows": null,
            "height": null,
            "justify_content": null,
            "justify_items": null,
            "left": null,
            "margin": null,
            "max_height": null,
            "max_width": null,
            "min_height": null,
            "min_width": null,
            "object_fit": null,
            "object_position": null,
            "order": null,
            "overflow": null,
            "overflow_x": null,
            "overflow_y": null,
            "padding": null,
            "right": null,
            "top": null,
            "visibility": null,
            "width": null
          }
        },
        "482707f749e143f59769d4306866be02": {
          "model_module": "@jupyter-widgets/base",
          "model_name": "LayoutModel",
          "state": {
            "_model_module": "@jupyter-widgets/base",
            "_model_module_version": "1.2.0",
            "_model_name": "LayoutModel",
            "_view_count": null,
            "_view_module": "@jupyter-widgets/base",
            "_view_module_version": "1.2.0",
            "_view_name": "LayoutView",
            "align_content": null,
            "align_items": null,
            "align_self": null,
            "border": null,
            "bottom": null,
            "display": null,
            "flex": null,
            "flex_flow": null,
            "grid_area": null,
            "grid_auto_columns": null,
            "grid_auto_flow": null,
            "grid_auto_rows": null,
            "grid_column": null,
            "grid_gap": null,
            "grid_row": null,
            "grid_template_areas": null,
            "grid_template_columns": null,
            "grid_template_rows": null,
            "height": null,
            "justify_content": null,
            "justify_items": null,
            "left": null,
            "margin": null,
            "max_height": null,
            "max_width": null,
            "min_height": null,
            "min_width": null,
            "object_fit": null,
            "object_position": null,
            "order": null,
            "overflow": null,
            "overflow_x": null,
            "overflow_y": null,
            "padding": null,
            "right": null,
            "top": null,
            "visibility": null,
            "width": null
          }
        },
        "487ed12828f44216b0ec5aa34009231d": {
          "model_module": "@jupyter-widgets/base",
          "model_name": "LayoutModel",
          "state": {
            "_model_module": "@jupyter-widgets/base",
            "_model_module_version": "1.2.0",
            "_model_name": "LayoutModel",
            "_view_count": null,
            "_view_module": "@jupyter-widgets/base",
            "_view_module_version": "1.2.0",
            "_view_name": "LayoutView",
            "align_content": null,
            "align_items": null,
            "align_self": null,
            "border": null,
            "bottom": null,
            "display": null,
            "flex": null,
            "flex_flow": null,
            "grid_area": null,
            "grid_auto_columns": null,
            "grid_auto_flow": null,
            "grid_auto_rows": null,
            "grid_column": null,
            "grid_gap": null,
            "grid_row": null,
            "grid_template_areas": null,
            "grid_template_columns": null,
            "grid_template_rows": null,
            "height": null,
            "justify_content": null,
            "justify_items": null,
            "left": null,
            "margin": null,
            "max_height": null,
            "max_width": null,
            "min_height": null,
            "min_width": null,
            "object_fit": null,
            "object_position": null,
            "order": null,
            "overflow": null,
            "overflow_x": null,
            "overflow_y": null,
            "padding": null,
            "right": null,
            "top": null,
            "visibility": null,
            "width": null
          }
        },
        "4acc45d0f0184e20b2ed6c9edab0f550": {
          "model_module": "@jupyter-widgets/controls",
          "model_name": "ProgressStyleModel",
          "state": {
            "_model_module": "@jupyter-widgets/controls",
            "_model_module_version": "1.5.0",
            "_model_name": "ProgressStyleModel",
            "_view_count": null,
            "_view_module": "@jupyter-widgets/base",
            "_view_module_version": "1.2.0",
            "_view_name": "StyleView",
            "bar_color": null,
            "description_width": "initial"
          }
        },
        "4db67d250b664d048a380277b4411c02": {
          "model_module": "@jupyter-widgets/controls",
          "model_name": "HTMLModel",
          "state": {
            "_dom_classes": [],
            "_model_module": "@jupyter-widgets/controls",
            "_model_module_version": "1.5.0",
            "_model_name": "HTMLModel",
            "_view_count": null,
            "_view_module": "@jupyter-widgets/controls",
            "_view_module_version": "1.5.0",
            "_view_name": "HTMLView",
            "description": "",
            "description_tooltip": null,
            "layout": "IPY_MODEL_1fd08be1d7e04b509169ceb32b201bdf",
            "placeholder": "​",
            "style": "IPY_MODEL_02f1ea6ba1f84848bf37f0e41deeea1c",
            "value": " 3/3 [00:37&lt;00:00, 12.71s/it]"
          }
        },
        "5150f531528042f2880e0dd35e95e01f": {
          "model_module": "@jupyter-widgets/controls",
          "model_name": "FloatProgressModel",
          "state": {
            "_dom_classes": [],
            "_model_module": "@jupyter-widgets/controls",
            "_model_module_version": "1.5.0",
            "_model_name": "FloatProgressModel",
            "_view_count": null,
            "_view_module": "@jupyter-widgets/controls",
            "_view_module_version": "1.5.0",
            "_view_name": "ProgressView",
            "bar_style": "",
            "description": "100%",
            "description_tooltip": null,
            "layout": "IPY_MODEL_682e79edf2764658a480ebbcbd2f0541",
            "max": 3,
            "min": 0,
            "orientation": "horizontal",
            "style": "IPY_MODEL_2cc57632dc03487a9891e48f0c362fbe",
            "value": 3
          }
        },
        "51eb268714174832b327501369455078": {
          "model_module": "@jupyter-widgets/controls",
          "model_name": "ProgressStyleModel",
          "state": {
            "_model_module": "@jupyter-widgets/controls",
            "_model_module_version": "1.5.0",
            "_model_name": "ProgressStyleModel",
            "_view_count": null,
            "_view_module": "@jupyter-widgets/base",
            "_view_module_version": "1.2.0",
            "_view_name": "StyleView",
            "bar_color": null,
            "description_width": "initial"
          }
        },
        "54a260e227b64949a80b725326877b67": {
          "model_module": "@jupyter-widgets/controls",
          "model_name": "DescriptionStyleModel",
          "state": {
            "_model_module": "@jupyter-widgets/controls",
            "_model_module_version": "1.5.0",
            "_model_name": "DescriptionStyleModel",
            "_view_count": null,
            "_view_module": "@jupyter-widgets/base",
            "_view_module_version": "1.2.0",
            "_view_name": "StyleView",
            "description_width": ""
          }
        },
        "54f204d0538349318a49537c5ed67a53": {
          "model_module": "@jupyter-widgets/base",
          "model_name": "LayoutModel",
          "state": {
            "_model_module": "@jupyter-widgets/base",
            "_model_module_version": "1.2.0",
            "_model_name": "LayoutModel",
            "_view_count": null,
            "_view_module": "@jupyter-widgets/base",
            "_view_module_version": "1.2.0",
            "_view_name": "LayoutView",
            "align_content": null,
            "align_items": null,
            "align_self": null,
            "border": null,
            "bottom": null,
            "display": null,
            "flex": null,
            "flex_flow": null,
            "grid_area": null,
            "grid_auto_columns": null,
            "grid_auto_flow": null,
            "grid_auto_rows": null,
            "grid_column": null,
            "grid_gap": null,
            "grid_row": null,
            "grid_template_areas": null,
            "grid_template_columns": null,
            "grid_template_rows": null,
            "height": null,
            "justify_content": null,
            "justify_items": null,
            "left": null,
            "margin": null,
            "max_height": null,
            "max_width": null,
            "min_height": null,
            "min_width": null,
            "object_fit": null,
            "object_position": null,
            "order": null,
            "overflow": null,
            "overflow_x": null,
            "overflow_y": null,
            "padding": null,
            "right": null,
            "top": null,
            "visibility": null,
            "width": null
          }
        },
        "5b18d6d679e44e01af71c2e51522c4ef": {
          "model_module": "@jupyter-widgets/base",
          "model_name": "LayoutModel",
          "state": {
            "_model_module": "@jupyter-widgets/base",
            "_model_module_version": "1.2.0",
            "_model_name": "LayoutModel",
            "_view_count": null,
            "_view_module": "@jupyter-widgets/base",
            "_view_module_version": "1.2.0",
            "_view_name": "LayoutView",
            "align_content": null,
            "align_items": null,
            "align_self": null,
            "border": null,
            "bottom": null,
            "display": null,
            "flex": null,
            "flex_flow": null,
            "grid_area": null,
            "grid_auto_columns": null,
            "grid_auto_flow": null,
            "grid_auto_rows": null,
            "grid_column": null,
            "grid_gap": null,
            "grid_row": null,
            "grid_template_areas": null,
            "grid_template_columns": null,
            "grid_template_rows": null,
            "height": null,
            "justify_content": null,
            "justify_items": null,
            "left": null,
            "margin": null,
            "max_height": null,
            "max_width": null,
            "min_height": null,
            "min_width": null,
            "object_fit": null,
            "object_position": null,
            "order": null,
            "overflow": null,
            "overflow_x": null,
            "overflow_y": null,
            "padding": null,
            "right": null,
            "top": null,
            "visibility": null,
            "width": null
          }
        },
        "5caa02d5f985408095d2673d6b62c6ae": {
          "model_module": "@jupyter-widgets/controls",
          "model_name": "DescriptionStyleModel",
          "state": {
            "_model_module": "@jupyter-widgets/controls",
            "_model_module_version": "1.5.0",
            "_model_name": "DescriptionStyleModel",
            "_view_count": null,
            "_view_module": "@jupyter-widgets/base",
            "_view_module_version": "1.2.0",
            "_view_name": "StyleView",
            "description_width": ""
          }
        },
        "5efa7fe1b81a4f769e72ed2ce6259ee7": {
          "model_module": "@jupyter-widgets/controls",
          "model_name": "FloatProgressModel",
          "state": {
            "_dom_classes": [],
            "_model_module": "@jupyter-widgets/controls",
            "_model_module_version": "1.5.0",
            "_model_name": "FloatProgressModel",
            "_view_count": null,
            "_view_module": "@jupyter-widgets/controls",
            "_view_module_version": "1.5.0",
            "_view_name": "ProgressView",
            "bar_style": "",
            "description": "100%",
            "description_tooltip": null,
            "layout": "IPY_MODEL_e3475846e92642fba806406510f6c446",
            "max": 3,
            "min": 0,
            "orientation": "horizontal",
            "style": "IPY_MODEL_b270bd0a54524f4b91586aeed056ea44",
            "value": 3
          }
        },
        "602c3e0629ce43d6b1ea1b00479e0364": {
          "model_module": "@jupyter-widgets/controls",
          "model_name": "ProgressStyleModel",
          "state": {
            "_model_module": "@jupyter-widgets/controls",
            "_model_module_version": "1.5.0",
            "_model_name": "ProgressStyleModel",
            "_view_count": null,
            "_view_module": "@jupyter-widgets/base",
            "_view_module_version": "1.2.0",
            "_view_name": "StyleView",
            "bar_color": null,
            "description_width": "initial"
          }
        },
        "6327e60786584bc0b2f77f7236a2c80d": {
          "model_module": "@jupyter-widgets/controls",
          "model_name": "HTMLModel",
          "state": {
            "_dom_classes": [],
            "_model_module": "@jupyter-widgets/controls",
            "_model_module_version": "1.5.0",
            "_model_name": "HTMLModel",
            "_view_count": null,
            "_view_module": "@jupyter-widgets/controls",
            "_view_module_version": "1.5.0",
            "_view_name": "HTMLView",
            "description": "",
            "description_tooltip": null,
            "layout": "IPY_MODEL_ea470e40dc004d9a95ba7797bb0ef058",
            "placeholder": "​",
            "style": "IPY_MODEL_212586f65b9947c49c350b12bcffae3f",
            "value": " 10/10 [06:44&lt;00:00, 40.49s/it]"
          }
        },
        "66a703c14cc24fb69bada2bc1bc78771": {
          "model_module": "@jupyter-widgets/controls",
          "model_name": "DescriptionStyleModel",
          "state": {
            "_model_module": "@jupyter-widgets/controls",
            "_model_module_version": "1.5.0",
            "_model_name": "DescriptionStyleModel",
            "_view_count": null,
            "_view_module": "@jupyter-widgets/base",
            "_view_module_version": "1.2.0",
            "_view_name": "StyleView",
            "description_width": ""
          }
        },
        "682e79edf2764658a480ebbcbd2f0541": {
          "model_module": "@jupyter-widgets/base",
          "model_name": "LayoutModel",
          "state": {
            "_model_module": "@jupyter-widgets/base",
            "_model_module_version": "1.2.0",
            "_model_name": "LayoutModel",
            "_view_count": null,
            "_view_module": "@jupyter-widgets/base",
            "_view_module_version": "1.2.0",
            "_view_name": "LayoutView",
            "align_content": null,
            "align_items": null,
            "align_self": null,
            "border": null,
            "bottom": null,
            "display": null,
            "flex": null,
            "flex_flow": null,
            "grid_area": null,
            "grid_auto_columns": null,
            "grid_auto_flow": null,
            "grid_auto_rows": null,
            "grid_column": null,
            "grid_gap": null,
            "grid_row": null,
            "grid_template_areas": null,
            "grid_template_columns": null,
            "grid_template_rows": null,
            "height": null,
            "justify_content": null,
            "justify_items": null,
            "left": null,
            "margin": null,
            "max_height": null,
            "max_width": null,
            "min_height": null,
            "min_width": null,
            "object_fit": null,
            "object_position": null,
            "order": null,
            "overflow": null,
            "overflow_x": null,
            "overflow_y": null,
            "padding": null,
            "right": null,
            "top": null,
            "visibility": null,
            "width": null
          }
        },
        "6ea75109c1274480821954b2fc1de9b4": {
          "model_module": "@jupyter-widgets/controls",
          "model_name": "HTMLModel",
          "state": {
            "_dom_classes": [],
            "_model_module": "@jupyter-widgets/controls",
            "_model_module_version": "1.5.0",
            "_model_name": "HTMLModel",
            "_view_count": null,
            "_view_module": "@jupyter-widgets/controls",
            "_view_module_version": "1.5.0",
            "_view_name": "HTMLView",
            "description": "",
            "description_tooltip": null,
            "layout": "IPY_MODEL_9209e7eee4e540c6907a57d81b698400",
            "placeholder": "​",
            "style": "IPY_MODEL_ee2293e2a86a4d3eb880df621462209f",
            "value": " 10/10 [00:08&lt;00:00,  1.18it/s]"
          }
        },
        "7212053380964f999ba1d3c22a3399b4": {
          "model_module": "@jupyter-widgets/base",
          "model_name": "LayoutModel",
          "state": {
            "_model_module": "@jupyter-widgets/base",
            "_model_module_version": "1.2.0",
            "_model_name": "LayoutModel",
            "_view_count": null,
            "_view_module": "@jupyter-widgets/base",
            "_view_module_version": "1.2.0",
            "_view_name": "LayoutView",
            "align_content": null,
            "align_items": null,
            "align_self": null,
            "border": null,
            "bottom": null,
            "display": null,
            "flex": null,
            "flex_flow": null,
            "grid_area": null,
            "grid_auto_columns": null,
            "grid_auto_flow": null,
            "grid_auto_rows": null,
            "grid_column": null,
            "grid_gap": null,
            "grid_row": null,
            "grid_template_areas": null,
            "grid_template_columns": null,
            "grid_template_rows": null,
            "height": null,
            "justify_content": null,
            "justify_items": null,
            "left": null,
            "margin": null,
            "max_height": null,
            "max_width": null,
            "min_height": null,
            "min_width": null,
            "object_fit": null,
            "object_position": null,
            "order": null,
            "overflow": null,
            "overflow_x": null,
            "overflow_y": null,
            "padding": null,
            "right": null,
            "top": null,
            "visibility": null,
            "width": null
          }
        },
        "76b227e325824503a62420b63966dc99": {
          "model_module": "@jupyter-widgets/controls",
          "model_name": "FloatProgressModel",
          "state": {
            "_dom_classes": [],
            "_model_module": "@jupyter-widgets/controls",
            "_model_module_version": "1.5.0",
            "_model_name": "FloatProgressModel",
            "_view_count": null,
            "_view_module": "@jupyter-widgets/controls",
            "_view_module_version": "1.5.0",
            "_view_name": "ProgressView",
            "bar_style": "",
            "description": "100%",
            "description_tooltip": null,
            "layout": "IPY_MODEL_5b18d6d679e44e01af71c2e51522c4ef",
            "max": 3,
            "min": 0,
            "orientation": "horizontal",
            "style": "IPY_MODEL_86513579d92345fd88cc03931acf23c5",
            "value": 3
          }
        },
        "77b172742f2343b8beba85273cf3e45c": {
          "model_module": "@jupyter-widgets/base",
          "model_name": "LayoutModel",
          "state": {
            "_model_module": "@jupyter-widgets/base",
            "_model_module_version": "1.2.0",
            "_model_name": "LayoutModel",
            "_view_count": null,
            "_view_module": "@jupyter-widgets/base",
            "_view_module_version": "1.2.0",
            "_view_name": "LayoutView",
            "align_content": null,
            "align_items": null,
            "align_self": null,
            "border": null,
            "bottom": null,
            "display": null,
            "flex": null,
            "flex_flow": null,
            "grid_area": null,
            "grid_auto_columns": null,
            "grid_auto_flow": null,
            "grid_auto_rows": null,
            "grid_column": null,
            "grid_gap": null,
            "grid_row": null,
            "grid_template_areas": null,
            "grid_template_columns": null,
            "grid_template_rows": null,
            "height": null,
            "justify_content": null,
            "justify_items": null,
            "left": null,
            "margin": null,
            "max_height": null,
            "max_width": null,
            "min_height": null,
            "min_width": null,
            "object_fit": null,
            "object_position": null,
            "order": null,
            "overflow": null,
            "overflow_x": null,
            "overflow_y": null,
            "padding": null,
            "right": null,
            "top": null,
            "visibility": null,
            "width": null
          }
        },
        "7975784027964a7e8fbb2097eb87914c": {
          "model_module": "@jupyter-widgets/base",
          "model_name": "LayoutModel",
          "state": {
            "_model_module": "@jupyter-widgets/base",
            "_model_module_version": "1.2.0",
            "_model_name": "LayoutModel",
            "_view_count": null,
            "_view_module": "@jupyter-widgets/base",
            "_view_module_version": "1.2.0",
            "_view_name": "LayoutView",
            "align_content": null,
            "align_items": null,
            "align_self": null,
            "border": null,
            "bottom": null,
            "display": null,
            "flex": null,
            "flex_flow": null,
            "grid_area": null,
            "grid_auto_columns": null,
            "grid_auto_flow": null,
            "grid_auto_rows": null,
            "grid_column": null,
            "grid_gap": null,
            "grid_row": null,
            "grid_template_areas": null,
            "grid_template_columns": null,
            "grid_template_rows": null,
            "height": null,
            "justify_content": null,
            "justify_items": null,
            "left": null,
            "margin": null,
            "max_height": null,
            "max_width": null,
            "min_height": null,
            "min_width": null,
            "object_fit": null,
            "object_position": null,
            "order": null,
            "overflow": null,
            "overflow_x": null,
            "overflow_y": null,
            "padding": null,
            "right": null,
            "top": null,
            "visibility": null,
            "width": null
          }
        },
        "7a2ce8b27430477981307348f4f71399": {
          "model_module": "@jupyter-widgets/controls",
          "model_name": "FloatProgressModel",
          "state": {
            "_dom_classes": [],
            "_model_module": "@jupyter-widgets/controls",
            "_model_module_version": "1.5.0",
            "_model_name": "FloatProgressModel",
            "_view_count": null,
            "_view_module": "@jupyter-widgets/controls",
            "_view_module_version": "1.5.0",
            "_view_name": "ProgressView",
            "bar_style": "",
            "description": "100%",
            "description_tooltip": null,
            "layout": "IPY_MODEL_23d29a30463440958185602c1fbb913c",
            "max": 3,
            "min": 0,
            "orientation": "horizontal",
            "style": "IPY_MODEL_9f6fd226a2514aa29fe0c140cc02ac64",
            "value": 3
          }
        },
        "81dc8e5695324012bfc6ed1f987a5630": {
          "model_module": "@jupyter-widgets/controls",
          "model_name": "HBoxModel",
          "state": {
            "_dom_classes": [],
            "_model_module": "@jupyter-widgets/controls",
            "_model_module_version": "1.5.0",
            "_model_name": "HBoxModel",
            "_view_count": null,
            "_view_module": "@jupyter-widgets/controls",
            "_view_module_version": "1.5.0",
            "_view_name": "HBoxView",
            "box_style": "",
            "children": [
              "IPY_MODEL_30cb94c710384fa9ae5dd10a39d16ecc",
              "IPY_MODEL_d3770dd8e83440658b856ab85a0a0a38"
            ],
            "layout": "IPY_MODEL_97c065bb1bed4365a3a97cc59f327bfc"
          }
        },
        "86513579d92345fd88cc03931acf23c5": {
          "model_module": "@jupyter-widgets/controls",
          "model_name": "ProgressStyleModel",
          "state": {
            "_model_module": "@jupyter-widgets/controls",
            "_model_module_version": "1.5.0",
            "_model_name": "ProgressStyleModel",
            "_view_count": null,
            "_view_module": "@jupyter-widgets/base",
            "_view_module_version": "1.2.0",
            "_view_name": "StyleView",
            "bar_color": null,
            "description_width": "initial"
          }
        },
        "86c8c7f613c048b39521c6e2380009b9": {
          "model_module": "@jupyter-widgets/base",
          "model_name": "LayoutModel",
          "state": {
            "_model_module": "@jupyter-widgets/base",
            "_model_module_version": "1.2.0",
            "_model_name": "LayoutModel",
            "_view_count": null,
            "_view_module": "@jupyter-widgets/base",
            "_view_module_version": "1.2.0",
            "_view_name": "LayoutView",
            "align_content": null,
            "align_items": null,
            "align_self": null,
            "border": null,
            "bottom": null,
            "display": null,
            "flex": null,
            "flex_flow": null,
            "grid_area": null,
            "grid_auto_columns": null,
            "grid_auto_flow": null,
            "grid_auto_rows": null,
            "grid_column": null,
            "grid_gap": null,
            "grid_row": null,
            "grid_template_areas": null,
            "grid_template_columns": null,
            "grid_template_rows": null,
            "height": null,
            "justify_content": null,
            "justify_items": null,
            "left": null,
            "margin": null,
            "max_height": null,
            "max_width": null,
            "min_height": null,
            "min_width": null,
            "object_fit": null,
            "object_position": null,
            "order": null,
            "overflow": null,
            "overflow_x": null,
            "overflow_y": null,
            "padding": null,
            "right": null,
            "top": null,
            "visibility": null,
            "width": null
          }
        },
        "8782d482b9cf4e9da5ee2b63ffd81f7a": {
          "model_module": "@jupyter-widgets/base",
          "model_name": "LayoutModel",
          "state": {
            "_model_module": "@jupyter-widgets/base",
            "_model_module_version": "1.2.0",
            "_model_name": "LayoutModel",
            "_view_count": null,
            "_view_module": "@jupyter-widgets/base",
            "_view_module_version": "1.2.0",
            "_view_name": "LayoutView",
            "align_content": null,
            "align_items": null,
            "align_self": null,
            "border": null,
            "bottom": null,
            "display": null,
            "flex": null,
            "flex_flow": null,
            "grid_area": null,
            "grid_auto_columns": null,
            "grid_auto_flow": null,
            "grid_auto_rows": null,
            "grid_column": null,
            "grid_gap": null,
            "grid_row": null,
            "grid_template_areas": null,
            "grid_template_columns": null,
            "grid_template_rows": null,
            "height": null,
            "justify_content": null,
            "justify_items": null,
            "left": null,
            "margin": null,
            "max_height": null,
            "max_width": null,
            "min_height": null,
            "min_width": null,
            "object_fit": null,
            "object_position": null,
            "order": null,
            "overflow": null,
            "overflow_x": null,
            "overflow_y": null,
            "padding": null,
            "right": null,
            "top": null,
            "visibility": null,
            "width": null
          }
        },
        "880bad71ddfe4a2f952bb0589bf4b7ed": {
          "model_module": "@jupyter-widgets/base",
          "model_name": "LayoutModel",
          "state": {
            "_model_module": "@jupyter-widgets/base",
            "_model_module_version": "1.2.0",
            "_model_name": "LayoutModel",
            "_view_count": null,
            "_view_module": "@jupyter-widgets/base",
            "_view_module_version": "1.2.0",
            "_view_name": "LayoutView",
            "align_content": null,
            "align_items": null,
            "align_self": null,
            "border": null,
            "bottom": null,
            "display": null,
            "flex": null,
            "flex_flow": null,
            "grid_area": null,
            "grid_auto_columns": null,
            "grid_auto_flow": null,
            "grid_auto_rows": null,
            "grid_column": null,
            "grid_gap": null,
            "grid_row": null,
            "grid_template_areas": null,
            "grid_template_columns": null,
            "grid_template_rows": null,
            "height": null,
            "justify_content": null,
            "justify_items": null,
            "left": null,
            "margin": null,
            "max_height": null,
            "max_width": null,
            "min_height": null,
            "min_width": null,
            "object_fit": null,
            "object_position": null,
            "order": null,
            "overflow": null,
            "overflow_x": null,
            "overflow_y": null,
            "padding": null,
            "right": null,
            "top": null,
            "visibility": null,
            "width": null
          }
        },
        "8a507bb51e644e818336b61b9e918290": {
          "model_module": "@jupyter-widgets/controls",
          "model_name": "FloatProgressModel",
          "state": {
            "_dom_classes": [],
            "_model_module": "@jupyter-widgets/controls",
            "_model_module_version": "1.5.0",
            "_model_name": "FloatProgressModel",
            "_view_count": null,
            "_view_module": "@jupyter-widgets/controls",
            "_view_module_version": "1.5.0",
            "_view_name": "ProgressView",
            "bar_style": "success",
            "description": "100%",
            "description_tooltip": null,
            "layout": "IPY_MODEL_487ed12828f44216b0ec5aa34009231d",
            "max": 10,
            "min": 0,
            "orientation": "horizontal",
            "style": "IPY_MODEL_b3a1ec9f1761424e9fb35259040b8549",
            "value": 10
          }
        },
        "8a713305863d4f1d891f0abc0e65e564": {
          "model_module": "@jupyter-widgets/controls",
          "model_name": "DescriptionStyleModel",
          "state": {
            "_model_module": "@jupyter-widgets/controls",
            "_model_module_version": "1.5.0",
            "_model_name": "DescriptionStyleModel",
            "_view_count": null,
            "_view_module": "@jupyter-widgets/base",
            "_view_module_version": "1.2.0",
            "_view_name": "StyleView",
            "description_width": ""
          }
        },
        "8c47272c491c49a3b22530391e952dd1": {
          "model_module": "@jupyter-widgets/controls",
          "model_name": "HTMLModel",
          "state": {
            "_dom_classes": [],
            "_model_module": "@jupyter-widgets/controls",
            "_model_module_version": "1.5.0",
            "_model_name": "HTMLModel",
            "_view_count": null,
            "_view_module": "@jupyter-widgets/controls",
            "_view_module_version": "1.5.0",
            "_view_name": "HTMLView",
            "description": "",
            "description_tooltip": null,
            "layout": "IPY_MODEL_ed7a1822536848088639bd2c921a56ab",
            "placeholder": "​",
            "style": "IPY_MODEL_a71895d012af4905a8930500ea69fa62",
            "value": " 3/3 [00:40&lt;00:00, 13.55s/it]"
          }
        },
        "9209e7eee4e540c6907a57d81b698400": {
          "model_module": "@jupyter-widgets/base",
          "model_name": "LayoutModel",
          "state": {
            "_model_module": "@jupyter-widgets/base",
            "_model_module_version": "1.2.0",
            "_model_name": "LayoutModel",
            "_view_count": null,
            "_view_module": "@jupyter-widgets/base",
            "_view_module_version": "1.2.0",
            "_view_name": "LayoutView",
            "align_content": null,
            "align_items": null,
            "align_self": null,
            "border": null,
            "bottom": null,
            "display": null,
            "flex": null,
            "flex_flow": null,
            "grid_area": null,
            "grid_auto_columns": null,
            "grid_auto_flow": null,
            "grid_auto_rows": null,
            "grid_column": null,
            "grid_gap": null,
            "grid_row": null,
            "grid_template_areas": null,
            "grid_template_columns": null,
            "grid_template_rows": null,
            "height": null,
            "justify_content": null,
            "justify_items": null,
            "left": null,
            "margin": null,
            "max_height": null,
            "max_width": null,
            "min_height": null,
            "min_width": null,
            "object_fit": null,
            "object_position": null,
            "order": null,
            "overflow": null,
            "overflow_x": null,
            "overflow_y": null,
            "padding": null,
            "right": null,
            "top": null,
            "visibility": null,
            "width": null
          }
        },
        "93667f7e7dec4182941fb00feb4eb66f": {
          "model_module": "@jupyter-widgets/base",
          "model_name": "LayoutModel",
          "state": {
            "_model_module": "@jupyter-widgets/base",
            "_model_module_version": "1.2.0",
            "_model_name": "LayoutModel",
            "_view_count": null,
            "_view_module": "@jupyter-widgets/base",
            "_view_module_version": "1.2.0",
            "_view_name": "LayoutView",
            "align_content": null,
            "align_items": null,
            "align_self": null,
            "border": null,
            "bottom": null,
            "display": null,
            "flex": null,
            "flex_flow": null,
            "grid_area": null,
            "grid_auto_columns": null,
            "grid_auto_flow": null,
            "grid_auto_rows": null,
            "grid_column": null,
            "grid_gap": null,
            "grid_row": null,
            "grid_template_areas": null,
            "grid_template_columns": null,
            "grid_template_rows": null,
            "height": null,
            "justify_content": null,
            "justify_items": null,
            "left": null,
            "margin": null,
            "max_height": null,
            "max_width": null,
            "min_height": null,
            "min_width": null,
            "object_fit": null,
            "object_position": null,
            "order": null,
            "overflow": null,
            "overflow_x": null,
            "overflow_y": null,
            "padding": null,
            "right": null,
            "top": null,
            "visibility": null,
            "width": null
          }
        },
        "969ce68c8c314a53994f47a0d2bf3688": {
          "model_module": "@jupyter-widgets/base",
          "model_name": "LayoutModel",
          "state": {
            "_model_module": "@jupyter-widgets/base",
            "_model_module_version": "1.2.0",
            "_model_name": "LayoutModel",
            "_view_count": null,
            "_view_module": "@jupyter-widgets/base",
            "_view_module_version": "1.2.0",
            "_view_name": "LayoutView",
            "align_content": null,
            "align_items": null,
            "align_self": null,
            "border": null,
            "bottom": null,
            "display": null,
            "flex": null,
            "flex_flow": null,
            "grid_area": null,
            "grid_auto_columns": null,
            "grid_auto_flow": null,
            "grid_auto_rows": null,
            "grid_column": null,
            "grid_gap": null,
            "grid_row": null,
            "grid_template_areas": null,
            "grid_template_columns": null,
            "grid_template_rows": null,
            "height": null,
            "justify_content": null,
            "justify_items": null,
            "left": null,
            "margin": null,
            "max_height": null,
            "max_width": null,
            "min_height": null,
            "min_width": null,
            "object_fit": null,
            "object_position": null,
            "order": null,
            "overflow": null,
            "overflow_x": null,
            "overflow_y": null,
            "padding": null,
            "right": null,
            "top": null,
            "visibility": null,
            "width": null
          }
        },
        "978638fe2c224b6e99b32fda066365f7": {
          "model_module": "@jupyter-widgets/controls",
          "model_name": "ProgressStyleModel",
          "state": {
            "_model_module": "@jupyter-widgets/controls",
            "_model_module_version": "1.5.0",
            "_model_name": "ProgressStyleModel",
            "_view_count": null,
            "_view_module": "@jupyter-widgets/base",
            "_view_module_version": "1.2.0",
            "_view_name": "StyleView",
            "bar_color": null,
            "description_width": "initial"
          }
        },
        "97c065bb1bed4365a3a97cc59f327bfc": {
          "model_module": "@jupyter-widgets/base",
          "model_name": "LayoutModel",
          "state": {
            "_model_module": "@jupyter-widgets/base",
            "_model_module_version": "1.2.0",
            "_model_name": "LayoutModel",
            "_view_count": null,
            "_view_module": "@jupyter-widgets/base",
            "_view_module_version": "1.2.0",
            "_view_name": "LayoutView",
            "align_content": null,
            "align_items": null,
            "align_self": null,
            "border": null,
            "bottom": null,
            "display": null,
            "flex": null,
            "flex_flow": null,
            "grid_area": null,
            "grid_auto_columns": null,
            "grid_auto_flow": null,
            "grid_auto_rows": null,
            "grid_column": null,
            "grid_gap": null,
            "grid_row": null,
            "grid_template_areas": null,
            "grid_template_columns": null,
            "grid_template_rows": null,
            "height": null,
            "justify_content": null,
            "justify_items": null,
            "left": null,
            "margin": null,
            "max_height": null,
            "max_width": null,
            "min_height": null,
            "min_width": null,
            "object_fit": null,
            "object_position": null,
            "order": null,
            "overflow": null,
            "overflow_x": null,
            "overflow_y": null,
            "padding": null,
            "right": null,
            "top": null,
            "visibility": null,
            "width": null
          }
        },
        "9954dfbcb2464fd4bcc87aa759eaa017": {
          "model_module": "@jupyter-widgets/base",
          "model_name": "LayoutModel",
          "state": {
            "_model_module": "@jupyter-widgets/base",
            "_model_module_version": "1.2.0",
            "_model_name": "LayoutModel",
            "_view_count": null,
            "_view_module": "@jupyter-widgets/base",
            "_view_module_version": "1.2.0",
            "_view_name": "LayoutView",
            "align_content": null,
            "align_items": null,
            "align_self": null,
            "border": null,
            "bottom": null,
            "display": null,
            "flex": null,
            "flex_flow": null,
            "grid_area": null,
            "grid_auto_columns": null,
            "grid_auto_flow": null,
            "grid_auto_rows": null,
            "grid_column": null,
            "grid_gap": null,
            "grid_row": null,
            "grid_template_areas": null,
            "grid_template_columns": null,
            "grid_template_rows": null,
            "height": null,
            "justify_content": null,
            "justify_items": null,
            "left": null,
            "margin": null,
            "max_height": null,
            "max_width": null,
            "min_height": null,
            "min_width": null,
            "object_fit": null,
            "object_position": null,
            "order": null,
            "overflow": null,
            "overflow_x": null,
            "overflow_y": null,
            "padding": null,
            "right": null,
            "top": null,
            "visibility": null,
            "width": null
          }
        },
        "9bff532c7ed3498c9a530b5a72f6422e": {
          "model_module": "@jupyter-widgets/controls",
          "model_name": "HBoxModel",
          "state": {
            "_dom_classes": [],
            "_model_module": "@jupyter-widgets/controls",
            "_model_module_version": "1.5.0",
            "_model_name": "HBoxModel",
            "_view_count": null,
            "_view_module": "@jupyter-widgets/controls",
            "_view_module_version": "1.5.0",
            "_view_name": "HBoxView",
            "box_style": "",
            "children": [
              "IPY_MODEL_5efa7fe1b81a4f769e72ed2ce6259ee7",
              "IPY_MODEL_0d248e64533044e08860985fe100040c"
            ],
            "layout": "IPY_MODEL_77b172742f2343b8beba85273cf3e45c"
          }
        },
        "9f6fd226a2514aa29fe0c140cc02ac64": {
          "model_module": "@jupyter-widgets/controls",
          "model_name": "ProgressStyleModel",
          "state": {
            "_model_module": "@jupyter-widgets/controls",
            "_model_module_version": "1.5.0",
            "_model_name": "ProgressStyleModel",
            "_view_count": null,
            "_view_module": "@jupyter-widgets/base",
            "_view_module_version": "1.2.0",
            "_view_name": "StyleView",
            "bar_color": null,
            "description_width": "initial"
          }
        },
        "a3acc7ede6244ed095cd45a239051652": {
          "model_module": "@jupyter-widgets/base",
          "model_name": "LayoutModel",
          "state": {
            "_model_module": "@jupyter-widgets/base",
            "_model_module_version": "1.2.0",
            "_model_name": "LayoutModel",
            "_view_count": null,
            "_view_module": "@jupyter-widgets/base",
            "_view_module_version": "1.2.0",
            "_view_name": "LayoutView",
            "align_content": null,
            "align_items": null,
            "align_self": null,
            "border": null,
            "bottom": null,
            "display": null,
            "flex": null,
            "flex_flow": null,
            "grid_area": null,
            "grid_auto_columns": null,
            "grid_auto_flow": null,
            "grid_auto_rows": null,
            "grid_column": null,
            "grid_gap": null,
            "grid_row": null,
            "grid_template_areas": null,
            "grid_template_columns": null,
            "grid_template_rows": null,
            "height": null,
            "justify_content": null,
            "justify_items": null,
            "left": null,
            "margin": null,
            "max_height": null,
            "max_width": null,
            "min_height": null,
            "min_width": null,
            "object_fit": null,
            "object_position": null,
            "order": null,
            "overflow": null,
            "overflow_x": null,
            "overflow_y": null,
            "padding": null,
            "right": null,
            "top": null,
            "visibility": null,
            "width": null
          }
        },
        "a3b8b24409a048f6b509573e4d510b71": {
          "model_module": "@jupyter-widgets/base",
          "model_name": "LayoutModel",
          "state": {
            "_model_module": "@jupyter-widgets/base",
            "_model_module_version": "1.2.0",
            "_model_name": "LayoutModel",
            "_view_count": null,
            "_view_module": "@jupyter-widgets/base",
            "_view_module_version": "1.2.0",
            "_view_name": "LayoutView",
            "align_content": null,
            "align_items": null,
            "align_self": null,
            "border": null,
            "bottom": null,
            "display": null,
            "flex": null,
            "flex_flow": null,
            "grid_area": null,
            "grid_auto_columns": null,
            "grid_auto_flow": null,
            "grid_auto_rows": null,
            "grid_column": null,
            "grid_gap": null,
            "grid_row": null,
            "grid_template_areas": null,
            "grid_template_columns": null,
            "grid_template_rows": null,
            "height": null,
            "justify_content": null,
            "justify_items": null,
            "left": null,
            "margin": null,
            "max_height": null,
            "max_width": null,
            "min_height": null,
            "min_width": null,
            "object_fit": null,
            "object_position": null,
            "order": null,
            "overflow": null,
            "overflow_x": null,
            "overflow_y": null,
            "padding": null,
            "right": null,
            "top": null,
            "visibility": null,
            "width": null
          }
        },
        "a521a3142f1846eeb4f20dafa91d9eb8": {
          "model_module": "@jupyter-widgets/controls",
          "model_name": "HBoxModel",
          "state": {
            "_dom_classes": [],
            "_model_module": "@jupyter-widgets/controls",
            "_model_module_version": "1.5.0",
            "_model_name": "HBoxModel",
            "_view_count": null,
            "_view_module": "@jupyter-widgets/controls",
            "_view_module_version": "1.5.0",
            "_view_name": "HBoxView",
            "box_style": "",
            "children": [
              "IPY_MODEL_3a74b173ee394dbe8a03a94743e1c7f1",
              "IPY_MODEL_01b2405992d2475f9c50cd92d9efc12b"
            ],
            "layout": "IPY_MODEL_880bad71ddfe4a2f952bb0589bf4b7ed"
          }
        },
        "a52daccae94d4efea2a9223fe5efd43f": {
          "model_module": "@jupyter-widgets/controls",
          "model_name": "HTMLModel",
          "state": {
            "_dom_classes": [],
            "_model_module": "@jupyter-widgets/controls",
            "_model_module_version": "1.5.0",
            "_model_name": "HTMLModel",
            "_view_count": null,
            "_view_module": "@jupyter-widgets/controls",
            "_view_module_version": "1.5.0",
            "_view_name": "HTMLView",
            "description": "",
            "description_tooltip": null,
            "layout": "IPY_MODEL_227dc3880deb4087a41cb98c99d87b5c",
            "placeholder": "​",
            "style": "IPY_MODEL_8a713305863d4f1d891f0abc0e65e564",
            "value": " 3/3 [00:36&lt;00:00, 12.07s/it]"
          }
        },
        "a71895d012af4905a8930500ea69fa62": {
          "model_module": "@jupyter-widgets/controls",
          "model_name": "DescriptionStyleModel",
          "state": {
            "_model_module": "@jupyter-widgets/controls",
            "_model_module_version": "1.5.0",
            "_model_name": "DescriptionStyleModel",
            "_view_count": null,
            "_view_module": "@jupyter-widgets/base",
            "_view_module_version": "1.2.0",
            "_view_name": "StyleView",
            "description_width": ""
          }
        },
        "a829ed9c89e0494db89b38aa7caaee73": {
          "model_module": "@jupyter-widgets/controls",
          "model_name": "HTMLModel",
          "state": {
            "_dom_classes": [],
            "_model_module": "@jupyter-widgets/controls",
            "_model_module_version": "1.5.0",
            "_model_name": "HTMLModel",
            "_view_count": null,
            "_view_module": "@jupyter-widgets/controls",
            "_view_module_version": "1.5.0",
            "_view_name": "HTMLView",
            "description": "",
            "description_tooltip": null,
            "layout": "IPY_MODEL_86c8c7f613c048b39521c6e2380009b9",
            "placeholder": "​",
            "style": "IPY_MODEL_f50d978240794802a7ed61fbf0e13874",
            "value": " 3/3 [00:46&lt;00:00, 16.87s/it]"
          }
        },
        "a89e945ed2cd4788b4d41d9ffdac8021": {
          "model_module": "@jupyter-widgets/controls",
          "model_name": "HTMLModel",
          "state": {
            "_dom_classes": [],
            "_model_module": "@jupyter-widgets/controls",
            "_model_module_version": "1.5.0",
            "_model_name": "HTMLModel",
            "_view_count": null,
            "_view_module": "@jupyter-widgets/controls",
            "_view_module_version": "1.5.0",
            "_view_name": "HTMLView",
            "description": "",
            "description_tooltip": null,
            "layout": "IPY_MODEL_969ce68c8c314a53994f47a0d2bf3688",
            "placeholder": "​",
            "style": "IPY_MODEL_2fa723765b3c49ca956da9cbdf735465",
            "value": " 3/3 [00:37&lt;00:00, 12.47s/it]"
          }
        },
        "a956e4b9006a47299bd2eb83e37e5aee": {
          "model_module": "@jupyter-widgets/controls",
          "model_name": "FloatProgressModel",
          "state": {
            "_dom_classes": [],
            "_model_module": "@jupyter-widgets/controls",
            "_model_module_version": "1.5.0",
            "_model_name": "FloatProgressModel",
            "_view_count": null,
            "_view_module": "@jupyter-widgets/controls",
            "_view_module_version": "1.5.0",
            "_view_name": "ProgressView",
            "bar_style": "",
            "description": "100%",
            "description_tooltip": null,
            "layout": "IPY_MODEL_08f0b2dd1c064838a2686fc0eef24618",
            "max": 3,
            "min": 0,
            "orientation": "horizontal",
            "style": "IPY_MODEL_51eb268714174832b327501369455078",
            "value": 3
          }
        },
        "b0423b637b4041a2896b57d0e44ba48f": {
          "model_module": "@jupyter-widgets/base",
          "model_name": "LayoutModel",
          "state": {
            "_model_module": "@jupyter-widgets/base",
            "_model_module_version": "1.2.0",
            "_model_name": "LayoutModel",
            "_view_count": null,
            "_view_module": "@jupyter-widgets/base",
            "_view_module_version": "1.2.0",
            "_view_name": "LayoutView",
            "align_content": null,
            "align_items": null,
            "align_self": null,
            "border": null,
            "bottom": null,
            "display": null,
            "flex": null,
            "flex_flow": null,
            "grid_area": null,
            "grid_auto_columns": null,
            "grid_auto_flow": null,
            "grid_auto_rows": null,
            "grid_column": null,
            "grid_gap": null,
            "grid_row": null,
            "grid_template_areas": null,
            "grid_template_columns": null,
            "grid_template_rows": null,
            "height": null,
            "justify_content": null,
            "justify_items": null,
            "left": null,
            "margin": null,
            "max_height": null,
            "max_width": null,
            "min_height": null,
            "min_width": null,
            "object_fit": null,
            "object_position": null,
            "order": null,
            "overflow": null,
            "overflow_x": null,
            "overflow_y": null,
            "padding": null,
            "right": null,
            "top": null,
            "visibility": null,
            "width": null
          }
        },
        "b270bd0a54524f4b91586aeed056ea44": {
          "model_module": "@jupyter-widgets/controls",
          "model_name": "ProgressStyleModel",
          "state": {
            "_model_module": "@jupyter-widgets/controls",
            "_model_module_version": "1.5.0",
            "_model_name": "ProgressStyleModel",
            "_view_count": null,
            "_view_module": "@jupyter-widgets/base",
            "_view_module_version": "1.2.0",
            "_view_name": "StyleView",
            "bar_color": null,
            "description_width": "initial"
          }
        },
        "b3a1ec9f1761424e9fb35259040b8549": {
          "model_module": "@jupyter-widgets/controls",
          "model_name": "ProgressStyleModel",
          "state": {
            "_model_module": "@jupyter-widgets/controls",
            "_model_module_version": "1.5.0",
            "_model_name": "ProgressStyleModel",
            "_view_count": null,
            "_view_module": "@jupyter-widgets/base",
            "_view_module_version": "1.2.0",
            "_view_name": "StyleView",
            "bar_color": null,
            "description_width": "initial"
          }
        },
        "b3b915b6d8674cf4bc64166d5393696a": {
          "model_module": "@jupyter-widgets/base",
          "model_name": "LayoutModel",
          "state": {
            "_model_module": "@jupyter-widgets/base",
            "_model_module_version": "1.2.0",
            "_model_name": "LayoutModel",
            "_view_count": null,
            "_view_module": "@jupyter-widgets/base",
            "_view_module_version": "1.2.0",
            "_view_name": "LayoutView",
            "align_content": null,
            "align_items": null,
            "align_self": null,
            "border": null,
            "bottom": null,
            "display": null,
            "flex": null,
            "flex_flow": null,
            "grid_area": null,
            "grid_auto_columns": null,
            "grid_auto_flow": null,
            "grid_auto_rows": null,
            "grid_column": null,
            "grid_gap": null,
            "grid_row": null,
            "grid_template_areas": null,
            "grid_template_columns": null,
            "grid_template_rows": null,
            "height": null,
            "justify_content": null,
            "justify_items": null,
            "left": null,
            "margin": null,
            "max_height": null,
            "max_width": null,
            "min_height": null,
            "min_width": null,
            "object_fit": null,
            "object_position": null,
            "order": null,
            "overflow": null,
            "overflow_x": null,
            "overflow_y": null,
            "padding": null,
            "right": null,
            "top": null,
            "visibility": null,
            "width": null
          }
        },
        "b5c9f188fff34a3f982a182093bced06": {
          "model_module": "@jupyter-widgets/base",
          "model_name": "LayoutModel",
          "state": {
            "_model_module": "@jupyter-widgets/base",
            "_model_module_version": "1.2.0",
            "_model_name": "LayoutModel",
            "_view_count": null,
            "_view_module": "@jupyter-widgets/base",
            "_view_module_version": "1.2.0",
            "_view_name": "LayoutView",
            "align_content": null,
            "align_items": null,
            "align_self": null,
            "border": null,
            "bottom": null,
            "display": null,
            "flex": null,
            "flex_flow": null,
            "grid_area": null,
            "grid_auto_columns": null,
            "grid_auto_flow": null,
            "grid_auto_rows": null,
            "grid_column": null,
            "grid_gap": null,
            "grid_row": null,
            "grid_template_areas": null,
            "grid_template_columns": null,
            "grid_template_rows": null,
            "height": null,
            "justify_content": null,
            "justify_items": null,
            "left": null,
            "margin": null,
            "max_height": null,
            "max_width": null,
            "min_height": null,
            "min_width": null,
            "object_fit": null,
            "object_position": null,
            "order": null,
            "overflow": null,
            "overflow_x": null,
            "overflow_y": null,
            "padding": null,
            "right": null,
            "top": null,
            "visibility": null,
            "width": null
          }
        },
        "bba7944446f44f41b2975e432bf64b99": {
          "model_module": "@jupyter-widgets/base",
          "model_name": "LayoutModel",
          "state": {
            "_model_module": "@jupyter-widgets/base",
            "_model_module_version": "1.2.0",
            "_model_name": "LayoutModel",
            "_view_count": null,
            "_view_module": "@jupyter-widgets/base",
            "_view_module_version": "1.2.0",
            "_view_name": "LayoutView",
            "align_content": null,
            "align_items": null,
            "align_self": null,
            "border": null,
            "bottom": null,
            "display": null,
            "flex": null,
            "flex_flow": null,
            "grid_area": null,
            "grid_auto_columns": null,
            "grid_auto_flow": null,
            "grid_auto_rows": null,
            "grid_column": null,
            "grid_gap": null,
            "grid_row": null,
            "grid_template_areas": null,
            "grid_template_columns": null,
            "grid_template_rows": null,
            "height": null,
            "justify_content": null,
            "justify_items": null,
            "left": null,
            "margin": null,
            "max_height": null,
            "max_width": null,
            "min_height": null,
            "min_width": null,
            "object_fit": null,
            "object_position": null,
            "order": null,
            "overflow": null,
            "overflow_x": null,
            "overflow_y": null,
            "padding": null,
            "right": null,
            "top": null,
            "visibility": null,
            "width": null
          }
        },
        "c43ac65572dc49a49f130a771bc2f71a": {
          "model_module": "@jupyter-widgets/controls",
          "model_name": "HBoxModel",
          "state": {
            "_dom_classes": [],
            "_model_module": "@jupyter-widgets/controls",
            "_model_module_version": "1.5.0",
            "_model_name": "HBoxModel",
            "_view_count": null,
            "_view_module": "@jupyter-widgets/controls",
            "_view_module_version": "1.5.0",
            "_view_name": "HBoxView",
            "box_style": "",
            "children": [
              "IPY_MODEL_3eac8cc0e95c458c8018f86ff8005789",
              "IPY_MODEL_6327e60786584bc0b2f77f7236a2c80d"
            ],
            "layout": "IPY_MODEL_c7e99ec80203464484116be73920b453"
          }
        },
        "c67738c6c6e24abc84134827f3b7878c": {
          "model_module": "@jupyter-widgets/controls",
          "model_name": "FloatProgressModel",
          "state": {
            "_dom_classes": [],
            "_model_module": "@jupyter-widgets/controls",
            "_model_module_version": "1.5.0",
            "_model_name": "FloatProgressModel",
            "_view_count": null,
            "_view_module": "@jupyter-widgets/controls",
            "_view_module_version": "1.5.0",
            "_view_name": "ProgressView",
            "bar_style": "success",
            "description": "100%",
            "description_tooltip": null,
            "layout": "IPY_MODEL_273af5b7c7ce4274a87eece5494c5cc1",
            "max": 10,
            "min": 0,
            "orientation": "horizontal",
            "style": "IPY_MODEL_cbb38e9dcbf2489f9b615f25035d01ad",
            "value": 10
          }
        },
        "c7e99ec80203464484116be73920b453": {
          "model_module": "@jupyter-widgets/base",
          "model_name": "LayoutModel",
          "state": {
            "_model_module": "@jupyter-widgets/base",
            "_model_module_version": "1.2.0",
            "_model_name": "LayoutModel",
            "_view_count": null,
            "_view_module": "@jupyter-widgets/base",
            "_view_module_version": "1.2.0",
            "_view_name": "LayoutView",
            "align_content": null,
            "align_items": null,
            "align_self": null,
            "border": null,
            "bottom": null,
            "display": null,
            "flex": null,
            "flex_flow": null,
            "grid_area": null,
            "grid_auto_columns": null,
            "grid_auto_flow": null,
            "grid_auto_rows": null,
            "grid_column": null,
            "grid_gap": null,
            "grid_row": null,
            "grid_template_areas": null,
            "grid_template_columns": null,
            "grid_template_rows": null,
            "height": null,
            "justify_content": null,
            "justify_items": null,
            "left": null,
            "margin": null,
            "max_height": null,
            "max_width": null,
            "min_height": null,
            "min_width": null,
            "object_fit": null,
            "object_position": null,
            "order": null,
            "overflow": null,
            "overflow_x": null,
            "overflow_y": null,
            "padding": null,
            "right": null,
            "top": null,
            "visibility": null,
            "width": null
          }
        },
        "cb5e78ac2fbf4f4d863bdd1a22d114cc": {
          "model_module": "@jupyter-widgets/controls",
          "model_name": "HBoxModel",
          "state": {
            "_dom_classes": [],
            "_model_module": "@jupyter-widgets/controls",
            "_model_module_version": "1.5.0",
            "_model_name": "HBoxModel",
            "_view_count": null,
            "_view_module": "@jupyter-widgets/controls",
            "_view_module_version": "1.5.0",
            "_view_name": "HBoxView",
            "box_style": "",
            "children": [
              "IPY_MODEL_a956e4b9006a47299bd2eb83e37e5aee",
              "IPY_MODEL_41874e89f8784aeeb0b57f404ff5371f"
            ],
            "layout": "IPY_MODEL_a3b8b24409a048f6b509573e4d510b71"
          }
        },
        "cbb38e9dcbf2489f9b615f25035d01ad": {
          "model_module": "@jupyter-widgets/controls",
          "model_name": "ProgressStyleModel",
          "state": {
            "_model_module": "@jupyter-widgets/controls",
            "_model_module_version": "1.5.0",
            "_model_name": "ProgressStyleModel",
            "_view_count": null,
            "_view_module": "@jupyter-widgets/base",
            "_view_module_version": "1.2.0",
            "_view_name": "StyleView",
            "bar_color": null,
            "description_width": "initial"
          }
        },
        "cd7e32d85902483babda33efb43d91fe": {
          "model_module": "@jupyter-widgets/controls",
          "model_name": "HTMLModel",
          "state": {
            "_dom_classes": [],
            "_model_module": "@jupyter-widgets/controls",
            "_model_module_version": "1.5.0",
            "_model_name": "HTMLModel",
            "_view_count": null,
            "_view_module": "@jupyter-widgets/controls",
            "_view_module_version": "1.5.0",
            "_view_name": "HTMLView",
            "description": "",
            "description_tooltip": null,
            "layout": "IPY_MODEL_431c464983ed4453b323acd43439c795",
            "placeholder": "​",
            "style": "IPY_MODEL_24f3ff9fdd8e4463bba61f61b87cbc3b",
            "value": " 3/3 [00:36&lt;00:00, 12.01s/it]"
          }
        },
        "cd9ca685efbc465c893caeb12aab750c": {
          "model_module": "@jupyter-widgets/controls",
          "model_name": "HBoxModel",
          "state": {
            "_dom_classes": [],
            "_model_module": "@jupyter-widgets/controls",
            "_model_module_version": "1.5.0",
            "_model_name": "HBoxModel",
            "_view_count": null,
            "_view_module": "@jupyter-widgets/controls",
            "_view_module_version": "1.5.0",
            "_view_name": "HBoxView",
            "box_style": "",
            "children": [
              "IPY_MODEL_ee9ee8a5fde344b7989902fb2561f899",
              "IPY_MODEL_a52daccae94d4efea2a9223fe5efd43f"
            ],
            "layout": "IPY_MODEL_df92b13a779a4529967cf050cbd8da63"
          }
        },
        "cfb43e8e96164403adb6e0ca9b2bad53": {
          "model_module": "@jupyter-widgets/controls",
          "model_name": "ProgressStyleModel",
          "state": {
            "_model_module": "@jupyter-widgets/controls",
            "_model_module_version": "1.5.0",
            "_model_name": "ProgressStyleModel",
            "_view_count": null,
            "_view_module": "@jupyter-widgets/base",
            "_view_module_version": "1.2.0",
            "_view_name": "StyleView",
            "bar_color": null,
            "description_width": "initial"
          }
        },
        "d0fd21653e964067a05a9ea8787246ed": {
          "model_module": "@jupyter-widgets/controls",
          "model_name": "HBoxModel",
          "state": {
            "_dom_classes": [],
            "_model_module": "@jupyter-widgets/controls",
            "_model_module_version": "1.5.0",
            "_model_name": "HBoxModel",
            "_view_count": null,
            "_view_module": "@jupyter-widgets/controls",
            "_view_module_version": "1.5.0",
            "_view_name": "HBoxView",
            "box_style": "",
            "children": [
              "IPY_MODEL_c67738c6c6e24abc84134827f3b7878c",
              "IPY_MODEL_6ea75109c1274480821954b2fc1de9b4"
            ],
            "layout": "IPY_MODEL_28ef9b3526ff415f9c4507ee18c3ced5"
          }
        },
        "d3770dd8e83440658b856ab85a0a0a38": {
          "model_module": "@jupyter-widgets/controls",
          "model_name": "HTMLModel",
          "state": {
            "_dom_classes": [],
            "_model_module": "@jupyter-widgets/controls",
            "_model_module_version": "1.5.0",
            "_model_name": "HTMLModel",
            "_view_count": null,
            "_view_module": "@jupyter-widgets/controls",
            "_view_module_version": "1.5.0",
            "_view_name": "HTMLView",
            "description": "",
            "description_tooltip": null,
            "layout": "IPY_MODEL_b0423b637b4041a2896b57d0e44ba48f",
            "placeholder": "​",
            "style": "IPY_MODEL_29a4e8153d6e4d0aa3cbeac1962ec704",
            "value": " 10/10 [06:59&lt;00:00, 41.90s/it]"
          }
        },
        "d57d417ed82a468780142398b958bb17": {
          "model_module": "@jupyter-widgets/controls",
          "model_name": "DescriptionStyleModel",
          "state": {
            "_model_module": "@jupyter-widgets/controls",
            "_model_module_version": "1.5.0",
            "_model_name": "DescriptionStyleModel",
            "_view_count": null,
            "_view_module": "@jupyter-widgets/base",
            "_view_module_version": "1.2.0",
            "_view_name": "StyleView",
            "description_width": ""
          }
        },
        "de92fc54fa994c93aa48e6e4f3cb9abf": {
          "model_module": "@jupyter-widgets/base",
          "model_name": "LayoutModel",
          "state": {
            "_model_module": "@jupyter-widgets/base",
            "_model_module_version": "1.2.0",
            "_model_name": "LayoutModel",
            "_view_count": null,
            "_view_module": "@jupyter-widgets/base",
            "_view_module_version": "1.2.0",
            "_view_name": "LayoutView",
            "align_content": null,
            "align_items": null,
            "align_self": null,
            "border": null,
            "bottom": null,
            "display": null,
            "flex": null,
            "flex_flow": null,
            "grid_area": null,
            "grid_auto_columns": null,
            "grid_auto_flow": null,
            "grid_auto_rows": null,
            "grid_column": null,
            "grid_gap": null,
            "grid_row": null,
            "grid_template_areas": null,
            "grid_template_columns": null,
            "grid_template_rows": null,
            "height": null,
            "justify_content": null,
            "justify_items": null,
            "left": null,
            "margin": null,
            "max_height": null,
            "max_width": null,
            "min_height": null,
            "min_width": null,
            "object_fit": null,
            "object_position": null,
            "order": null,
            "overflow": null,
            "overflow_x": null,
            "overflow_y": null,
            "padding": null,
            "right": null,
            "top": null,
            "visibility": null,
            "width": null
          }
        },
        "df92b13a779a4529967cf050cbd8da63": {
          "model_module": "@jupyter-widgets/base",
          "model_name": "LayoutModel",
          "state": {
            "_model_module": "@jupyter-widgets/base",
            "_model_module_version": "1.2.0",
            "_model_name": "LayoutModel",
            "_view_count": null,
            "_view_module": "@jupyter-widgets/base",
            "_view_module_version": "1.2.0",
            "_view_name": "LayoutView",
            "align_content": null,
            "align_items": null,
            "align_self": null,
            "border": null,
            "bottom": null,
            "display": null,
            "flex": null,
            "flex_flow": null,
            "grid_area": null,
            "grid_auto_columns": null,
            "grid_auto_flow": null,
            "grid_auto_rows": null,
            "grid_column": null,
            "grid_gap": null,
            "grid_row": null,
            "grid_template_areas": null,
            "grid_template_columns": null,
            "grid_template_rows": null,
            "height": null,
            "justify_content": null,
            "justify_items": null,
            "left": null,
            "margin": null,
            "max_height": null,
            "max_width": null,
            "min_height": null,
            "min_width": null,
            "object_fit": null,
            "object_position": null,
            "order": null,
            "overflow": null,
            "overflow_x": null,
            "overflow_y": null,
            "padding": null,
            "right": null,
            "top": null,
            "visibility": null,
            "width": null
          }
        },
        "e06811328e144a9d8774fc89a2fdb1f6": {
          "model_module": "@jupyter-widgets/controls",
          "model_name": "HBoxModel",
          "state": {
            "_dom_classes": [],
            "_model_module": "@jupyter-widgets/controls",
            "_model_module_version": "1.5.0",
            "_model_name": "HBoxModel",
            "_view_count": null,
            "_view_module": "@jupyter-widgets/controls",
            "_view_module_version": "1.5.0",
            "_view_name": "HBoxView",
            "box_style": "",
            "children": [
              "IPY_MODEL_7a2ce8b27430477981307348f4f71399",
              "IPY_MODEL_eedc8fee2c9e4da692fd3996f0a93be0"
            ],
            "layout": "IPY_MODEL_a3acc7ede6244ed095cd45a239051652"
          }
        },
        "e3475846e92642fba806406510f6c446": {
          "model_module": "@jupyter-widgets/base",
          "model_name": "LayoutModel",
          "state": {
            "_model_module": "@jupyter-widgets/base",
            "_model_module_version": "1.2.0",
            "_model_name": "LayoutModel",
            "_view_count": null,
            "_view_module": "@jupyter-widgets/base",
            "_view_module_version": "1.2.0",
            "_view_name": "LayoutView",
            "align_content": null,
            "align_items": null,
            "align_self": null,
            "border": null,
            "bottom": null,
            "display": null,
            "flex": null,
            "flex_flow": null,
            "grid_area": null,
            "grid_auto_columns": null,
            "grid_auto_flow": null,
            "grid_auto_rows": null,
            "grid_column": null,
            "grid_gap": null,
            "grid_row": null,
            "grid_template_areas": null,
            "grid_template_columns": null,
            "grid_template_rows": null,
            "height": null,
            "justify_content": null,
            "justify_items": null,
            "left": null,
            "margin": null,
            "max_height": null,
            "max_width": null,
            "min_height": null,
            "min_width": null,
            "object_fit": null,
            "object_position": null,
            "order": null,
            "overflow": null,
            "overflow_x": null,
            "overflow_y": null,
            "padding": null,
            "right": null,
            "top": null,
            "visibility": null,
            "width": null
          }
        },
        "e3e83237b56540518bb717b14e778d66": {
          "model_module": "@jupyter-widgets/controls",
          "model_name": "HBoxModel",
          "state": {
            "_dom_classes": [],
            "_model_module": "@jupyter-widgets/controls",
            "_model_module_version": "1.5.0",
            "_model_name": "HBoxModel",
            "_view_count": null,
            "_view_module": "@jupyter-widgets/controls",
            "_view_module_version": "1.5.0",
            "_view_name": "HBoxView",
            "box_style": "",
            "children": [
              "IPY_MODEL_8a507bb51e644e818336b61b9e918290",
              "IPY_MODEL_3ad889b22a3d477cab420e859853b5af"
            ],
            "layout": "IPY_MODEL_2926189b07104676b64fbd2836658ab0"
          }
        },
        "e3fec3a438744553859ff89932fe217b": {
          "model_module": "@jupyter-widgets/controls",
          "model_name": "ProgressStyleModel",
          "state": {
            "_model_module": "@jupyter-widgets/controls",
            "_model_module_version": "1.5.0",
            "_model_name": "ProgressStyleModel",
            "_view_count": null,
            "_view_module": "@jupyter-widgets/base",
            "_view_module_version": "1.2.0",
            "_view_name": "StyleView",
            "bar_color": null,
            "description_width": "initial"
          }
        },
        "e960b791d72d4abb8774ef154b6f9687": {
          "model_module": "@jupyter-widgets/controls",
          "model_name": "HBoxModel",
          "state": {
            "_dom_classes": [],
            "_model_module": "@jupyter-widgets/controls",
            "_model_module_version": "1.5.0",
            "_model_name": "HBoxModel",
            "_view_count": null,
            "_view_module": "@jupyter-widgets/controls",
            "_view_module_version": "1.5.0",
            "_view_name": "HBoxView",
            "box_style": "",
            "children": [
              "IPY_MODEL_76b227e325824503a62420b63966dc99",
              "IPY_MODEL_a89e945ed2cd4788b4d41d9ffdac8021"
            ],
            "layout": "IPY_MODEL_0271645e291d473db511c9ac8fcec5e5"
          }
        },
        "ea470e40dc004d9a95ba7797bb0ef058": {
          "model_module": "@jupyter-widgets/base",
          "model_name": "LayoutModel",
          "state": {
            "_model_module": "@jupyter-widgets/base",
            "_model_module_version": "1.2.0",
            "_model_name": "LayoutModel",
            "_view_count": null,
            "_view_module": "@jupyter-widgets/base",
            "_view_module_version": "1.2.0",
            "_view_name": "LayoutView",
            "align_content": null,
            "align_items": null,
            "align_self": null,
            "border": null,
            "bottom": null,
            "display": null,
            "flex": null,
            "flex_flow": null,
            "grid_area": null,
            "grid_auto_columns": null,
            "grid_auto_flow": null,
            "grid_auto_rows": null,
            "grid_column": null,
            "grid_gap": null,
            "grid_row": null,
            "grid_template_areas": null,
            "grid_template_columns": null,
            "grid_template_rows": null,
            "height": null,
            "justify_content": null,
            "justify_items": null,
            "left": null,
            "margin": null,
            "max_height": null,
            "max_width": null,
            "min_height": null,
            "min_width": null,
            "object_fit": null,
            "object_position": null,
            "order": null,
            "overflow": null,
            "overflow_x": null,
            "overflow_y": null,
            "padding": null,
            "right": null,
            "top": null,
            "visibility": null,
            "width": null
          }
        },
        "ed7a1822536848088639bd2c921a56ab": {
          "model_module": "@jupyter-widgets/base",
          "model_name": "LayoutModel",
          "state": {
            "_model_module": "@jupyter-widgets/base",
            "_model_module_version": "1.2.0",
            "_model_name": "LayoutModel",
            "_view_count": null,
            "_view_module": "@jupyter-widgets/base",
            "_view_module_version": "1.2.0",
            "_view_name": "LayoutView",
            "align_content": null,
            "align_items": null,
            "align_self": null,
            "border": null,
            "bottom": null,
            "display": null,
            "flex": null,
            "flex_flow": null,
            "grid_area": null,
            "grid_auto_columns": null,
            "grid_auto_flow": null,
            "grid_auto_rows": null,
            "grid_column": null,
            "grid_gap": null,
            "grid_row": null,
            "grid_template_areas": null,
            "grid_template_columns": null,
            "grid_template_rows": null,
            "height": null,
            "justify_content": null,
            "justify_items": null,
            "left": null,
            "margin": null,
            "max_height": null,
            "max_width": null,
            "min_height": null,
            "min_width": null,
            "object_fit": null,
            "object_position": null,
            "order": null,
            "overflow": null,
            "overflow_x": null,
            "overflow_y": null,
            "padding": null,
            "right": null,
            "top": null,
            "visibility": null,
            "width": null
          }
        },
        "ed941e2d55e1495082268c26f9fcdfff": {
          "model_module": "@jupyter-widgets/controls",
          "model_name": "FloatProgressModel",
          "state": {
            "_dom_classes": [],
            "_model_module": "@jupyter-widgets/controls",
            "_model_module_version": "1.5.0",
            "_model_name": "FloatProgressModel",
            "_view_count": null,
            "_view_module": "@jupyter-widgets/controls",
            "_view_module_version": "1.5.0",
            "_view_name": "ProgressView",
            "bar_style": "",
            "description": "100%",
            "description_tooltip": null,
            "layout": "IPY_MODEL_049b0555098a45c78637da7befa88a8a",
            "max": 3,
            "min": 0,
            "orientation": "horizontal",
            "style": "IPY_MODEL_06f088f9ef574daa85053cc4009fbd4a",
            "value": 3
          }
        },
        "ee2293e2a86a4d3eb880df621462209f": {
          "model_module": "@jupyter-widgets/controls",
          "model_name": "DescriptionStyleModel",
          "state": {
            "_model_module": "@jupyter-widgets/controls",
            "_model_module_version": "1.5.0",
            "_model_name": "DescriptionStyleModel",
            "_view_count": null,
            "_view_module": "@jupyter-widgets/base",
            "_view_module_version": "1.2.0",
            "_view_name": "StyleView",
            "description_width": ""
          }
        },
        "ee9ee8a5fde344b7989902fb2561f899": {
          "model_module": "@jupyter-widgets/controls",
          "model_name": "FloatProgressModel",
          "state": {
            "_dom_classes": [],
            "_model_module": "@jupyter-widgets/controls",
            "_model_module_version": "1.5.0",
            "_model_name": "FloatProgressModel",
            "_view_count": null,
            "_view_module": "@jupyter-widgets/controls",
            "_view_module_version": "1.5.0",
            "_view_name": "ProgressView",
            "bar_style": "",
            "description": "100%",
            "description_tooltip": null,
            "layout": "IPY_MODEL_f53e3cf1cfeb4a5eb5bdefc2e7b8408a",
            "max": 3,
            "min": 0,
            "orientation": "horizontal",
            "style": "IPY_MODEL_4acc45d0f0184e20b2ed6c9edab0f550",
            "value": 3
          }
        },
        "eedc8fee2c9e4da692fd3996f0a93be0": {
          "model_module": "@jupyter-widgets/controls",
          "model_name": "HTMLModel",
          "state": {
            "_dom_classes": [],
            "_model_module": "@jupyter-widgets/controls",
            "_model_module_version": "1.5.0",
            "_model_name": "HTMLModel",
            "_view_count": null,
            "_view_module": "@jupyter-widgets/controls",
            "_view_module_version": "1.5.0",
            "_view_name": "HTMLView",
            "description": "",
            "description_tooltip": null,
            "layout": "IPY_MODEL_bba7944446f44f41b2975e432bf64b99",
            "placeholder": "​",
            "style": "IPY_MODEL_5caa02d5f985408095d2673d6b62c6ae",
            "value": " 3/3 [00:39&lt;00:00, 13.30s/it]"
          }
        },
        "f31ed6b6b6744596b899a7b1e9f06670": {
          "model_module": "@jupyter-widgets/controls",
          "model_name": "HBoxModel",
          "state": {
            "_dom_classes": [],
            "_model_module": "@jupyter-widgets/controls",
            "_model_module_version": "1.5.0",
            "_model_name": "HBoxModel",
            "_view_count": null,
            "_view_module": "@jupyter-widgets/controls",
            "_view_module_version": "1.5.0",
            "_view_name": "HBoxView",
            "box_style": "",
            "children": [
              "IPY_MODEL_5150f531528042f2880e0dd35e95e01f",
              "IPY_MODEL_8c47272c491c49a3b22530391e952dd1"
            ],
            "layout": "IPY_MODEL_b3b915b6d8674cf4bc64166d5393696a"
          }
        },
        "f50d978240794802a7ed61fbf0e13874": {
          "model_module": "@jupyter-widgets/controls",
          "model_name": "DescriptionStyleModel",
          "state": {
            "_model_module": "@jupyter-widgets/controls",
            "_model_module_version": "1.5.0",
            "_model_name": "DescriptionStyleModel",
            "_view_count": null,
            "_view_module": "@jupyter-widgets/base",
            "_view_module_version": "1.2.0",
            "_view_name": "StyleView",
            "description_width": ""
          }
        },
        "f53e3cf1cfeb4a5eb5bdefc2e7b8408a": {
          "model_module": "@jupyter-widgets/base",
          "model_name": "LayoutModel",
          "state": {
            "_model_module": "@jupyter-widgets/base",
            "_model_module_version": "1.2.0",
            "_model_name": "LayoutModel",
            "_view_count": null,
            "_view_module": "@jupyter-widgets/base",
            "_view_module_version": "1.2.0",
            "_view_name": "LayoutView",
            "align_content": null,
            "align_items": null,
            "align_self": null,
            "border": null,
            "bottom": null,
            "display": null,
            "flex": null,
            "flex_flow": null,
            "grid_area": null,
            "grid_auto_columns": null,
            "grid_auto_flow": null,
            "grid_auto_rows": null,
            "grid_column": null,
            "grid_gap": null,
            "grid_row": null,
            "grid_template_areas": null,
            "grid_template_columns": null,
            "grid_template_rows": null,
            "height": null,
            "justify_content": null,
            "justify_items": null,
            "left": null,
            "margin": null,
            "max_height": null,
            "max_width": null,
            "min_height": null,
            "min_width": null,
            "object_fit": null,
            "object_position": null,
            "order": null,
            "overflow": null,
            "overflow_x": null,
            "overflow_y": null,
            "padding": null,
            "right": null,
            "top": null,
            "visibility": null,
            "width": null
          }
        },
        "f69b00bd0fca4d2a83e94214ab080558": {
          "model_module": "@jupyter-widgets/controls",
          "model_name": "HBoxModel",
          "state": {
            "_dom_classes": [],
            "_model_module": "@jupyter-widgets/controls",
            "_model_module_version": "1.5.0",
            "_model_name": "HBoxModel",
            "_view_count": null,
            "_view_module": "@jupyter-widgets/controls",
            "_view_module_version": "1.5.0",
            "_view_name": "HBoxView",
            "box_style": "",
            "children": [
              "IPY_MODEL_ed941e2d55e1495082268c26f9fcdfff",
              "IPY_MODEL_4db67d250b664d048a380277b4411c02"
            ],
            "layout": "IPY_MODEL_f88b82ea583f45198ceed85cf60916e4"
          }
        },
        "f88b82ea583f45198ceed85cf60916e4": {
          "model_module": "@jupyter-widgets/base",
          "model_name": "LayoutModel",
          "state": {
            "_model_module": "@jupyter-widgets/base",
            "_model_module_version": "1.2.0",
            "_model_name": "LayoutModel",
            "_view_count": null,
            "_view_module": "@jupyter-widgets/base",
            "_view_module_version": "1.2.0",
            "_view_name": "LayoutView",
            "align_content": null,
            "align_items": null,
            "align_self": null,
            "border": null,
            "bottom": null,
            "display": null,
            "flex": null,
            "flex_flow": null,
            "grid_area": null,
            "grid_auto_columns": null,
            "grid_auto_flow": null,
            "grid_auto_rows": null,
            "grid_column": null,
            "grid_gap": null,
            "grid_row": null,
            "grid_template_areas": null,
            "grid_template_columns": null,
            "grid_template_rows": null,
            "height": null,
            "justify_content": null,
            "justify_items": null,
            "left": null,
            "margin": null,
            "max_height": null,
            "max_width": null,
            "min_height": null,
            "min_width": null,
            "object_fit": null,
            "object_position": null,
            "order": null,
            "overflow": null,
            "overflow_x": null,
            "overflow_y": null,
            "padding": null,
            "right": null,
            "top": null,
            "visibility": null,
            "width": null
          }
        },
        "fb78070ae8f64f34bcebd54361b2b32d": {
          "model_module": "@jupyter-widgets/base",
          "model_name": "LayoutModel",
          "state": {
            "_model_module": "@jupyter-widgets/base",
            "_model_module_version": "1.2.0",
            "_model_name": "LayoutModel",
            "_view_count": null,
            "_view_module": "@jupyter-widgets/base",
            "_view_module_version": "1.2.0",
            "_view_name": "LayoutView",
            "align_content": null,
            "align_items": null,
            "align_self": null,
            "border": null,
            "bottom": null,
            "display": null,
            "flex": null,
            "flex_flow": null,
            "grid_area": null,
            "grid_auto_columns": null,
            "grid_auto_flow": null,
            "grid_auto_rows": null,
            "grid_column": null,
            "grid_gap": null,
            "grid_row": null,
            "grid_template_areas": null,
            "grid_template_columns": null,
            "grid_template_rows": null,
            "height": null,
            "justify_content": null,
            "justify_items": null,
            "left": null,
            "margin": null,
            "max_height": null,
            "max_width": null,
            "min_height": null,
            "min_width": null,
            "object_fit": null,
            "object_position": null,
            "order": null,
            "overflow": null,
            "overflow_x": null,
            "overflow_y": null,
            "padding": null,
            "right": null,
            "top": null,
            "visibility": null,
            "width": null
          }
        }
      }
    }
  },
  "nbformat": 4,
  "nbformat_minor": 0
}
